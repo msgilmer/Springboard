{
 "cells": [
  {
   "cell_type": "code",
   "execution_count": 3,
   "metadata": {},
   "outputs": [
    {
     "data": {
      "text/plain": [
       "['forest', 'buildings', 'glacier', 'street', 'mountain', 'sea']"
      ]
     },
     "execution_count": 3,
     "metadata": {},
     "output_type": "execute_result"
    }
   ],
   "source": [
    "import os\n",
    "\n",
    "data_dir = 'data/seg_train/seg_train'\n",
    "cols = os.listdir(data_dir)\n",
    "cols"
   ]
  },
  {
   "cell_type": "code",
   "execution_count": 13,
   "metadata": {},
   "outputs": [
    {
     "data": {
      "text/html": [
       "<div>\n",
       "<style scoped>\n",
       "    .dataframe tbody tr th:only-of-type {\n",
       "        vertical-align: middle;\n",
       "    }\n",
       "\n",
       "    .dataframe tbody tr th {\n",
       "        vertical-align: top;\n",
       "    }\n",
       "\n",
       "    .dataframe thead th {\n",
       "        text-align: right;\n",
       "    }\n",
       "</style>\n",
       "<table border=\"1\" class=\"dataframe\">\n",
       "  <thead>\n",
       "    <tr style=\"text-align: right;\">\n",
       "      <th></th>\n",
       "      <th>forest</th>\n",
       "      <th>buildings</th>\n",
       "      <th>glacier</th>\n",
       "      <th>street</th>\n",
       "      <th>mountain</th>\n",
       "      <th>sea</th>\n",
       "    </tr>\n",
       "  </thead>\n",
       "  <tbody>\n",
       "    <tr>\n",
       "      <th>composite</th>\n",
       "      <td>2271</td>\n",
       "      <td>2191</td>\n",
       "      <td>2404</td>\n",
       "      <td>2382</td>\n",
       "      <td>2512</td>\n",
       "      <td>2274</td>\n",
       "    </tr>\n",
       "    <tr>\n",
       "      <th>train</th>\n",
       "      <td>1816</td>\n",
       "      <td>1752</td>\n",
       "      <td>1923</td>\n",
       "      <td>1905</td>\n",
       "      <td>2009</td>\n",
       "      <td>1819</td>\n",
       "    </tr>\n",
       "    <tr>\n",
       "      <th>test</th>\n",
       "      <td>455</td>\n",
       "      <td>439</td>\n",
       "      <td>481</td>\n",
       "      <td>477</td>\n",
       "      <td>503</td>\n",
       "      <td>455</td>\n",
       "    </tr>\n",
       "  </tbody>\n",
       "</table>\n",
       "</div>"
      ],
      "text/plain": [
       "           forest  buildings  glacier  street  mountain   sea\n",
       "composite    2271       2191     2404    2382      2512  2274\n",
       "train        1816       1752     1923    1905      2009  1819\n",
       "test          455        439      481     477       503   455"
      ]
     },
     "execution_count": 13,
     "metadata": {},
     "output_type": "execute_result"
    }
   ],
   "source": [
    "indx = ['composite', 'train', 'test']\n",
    "data = {}\n",
    "# Get number of files in each folder, this goes into the tot column,\n",
    "# test column comes from AWS model results, and train is tot - test:\n",
    "test_counts = {'forest': 455, 'buildings': 439, 'glacier': 481, 'street': 477,\\\n",
    "              'mountain': 503, 'sea': 455}\n",
    "for col in cols:\n",
    "    # Get number of files in each folder\n",
    "    nfiles = len([name for name in os.listdir(data_dir + '/' + col + '/.')])\n",
    "    data_col = [nfiles]\n",
    "    data_col.append(nfiles - test_counts[col])\n",
    "    data_col.append(test_counts[col])\n",
    "    data[col] = data_col\n",
    "    \n",
    "import pandas as pd\n",
    "label_counts_df = pd.DataFrame(data = data, index = indx, columns = cols)\n",
    "label_counts_df"
   ]
  },
  {
   "cell_type": "code",
   "execution_count": 21,
   "metadata": {},
   "outputs": [
    {
     "data": {
      "text/html": [
       "<div>\n",
       "<style scoped>\n",
       "    .dataframe tbody tr th:only-of-type {\n",
       "        vertical-align: middle;\n",
       "    }\n",
       "\n",
       "    .dataframe tbody tr th {\n",
       "        vertical-align: top;\n",
       "    }\n",
       "\n",
       "    .dataframe thead th {\n",
       "        text-align: right;\n",
       "    }\n",
       "</style>\n",
       "<table border=\"1\" class=\"dataframe\">\n",
       "  <thead>\n",
       "    <tr style=\"text-align: right;\">\n",
       "      <th></th>\n",
       "      <th>forest</th>\n",
       "      <th>buildings</th>\n",
       "      <th>glacier</th>\n",
       "      <th>street</th>\n",
       "      <th>mountain</th>\n",
       "      <th>sea</th>\n",
       "    </tr>\n",
       "  </thead>\n",
       "  <tbody>\n",
       "    <tr>\n",
       "      <th>composite</th>\n",
       "      <td>0.161821</td>\n",
       "      <td>0.156121</td>\n",
       "      <td>0.171298</td>\n",
       "      <td>0.169731</td>\n",
       "      <td>0.178994</td>\n",
       "      <td>0.162035</td>\n",
       "    </tr>\n",
       "    <tr>\n",
       "      <th>train</th>\n",
       "      <td>0.161796</td>\n",
       "      <td>0.156094</td>\n",
       "      <td>0.171329</td>\n",
       "      <td>0.169726</td>\n",
       "      <td>0.178991</td>\n",
       "      <td>0.162063</td>\n",
       "    </tr>\n",
       "    <tr>\n",
       "      <th>test</th>\n",
       "      <td>0.161922</td>\n",
       "      <td>0.156228</td>\n",
       "      <td>0.171174</td>\n",
       "      <td>0.169751</td>\n",
       "      <td>0.179004</td>\n",
       "      <td>0.161922</td>\n",
       "    </tr>\n",
       "  </tbody>\n",
       "</table>\n",
       "</div>"
      ],
      "text/plain": [
       "             forest  buildings   glacier    street  mountain       sea\n",
       "composite  0.161821   0.156121  0.171298  0.169731  0.178994  0.162035\n",
       "train      0.161796   0.156094  0.171329  0.169726  0.178991  0.162063\n",
       "test       0.161922   0.156228  0.171174  0.169751  0.179004  0.161922"
      ]
     },
     "execution_count": 21,
     "metadata": {},
     "output_type": "execute_result"
    }
   ],
   "source": [
    "# Now to convert these values to fractions of the whole\n",
    "label_counts_df.apply(lambda x: x / x.sum(), axis = 1)\n"
   ]
  },
  {
   "cell_type": "markdown",
   "metadata": {},
   "source": [
    "## Looks like AWS automatically stratified the train/test split to preserve the relative amounts of each label!"
   ]
  },
  {
   "cell_type": "code",
   "execution_count": 27,
   "metadata": {},
   "outputs": [
    {
     "data": {
      "text/plain": [
       "<matplotlib.axes._subplots.AxesSubplot at 0x11dd91a10>"
      ]
     },
     "execution_count": 27,
     "metadata": {},
     "output_type": "execute_result"
    },
    {
     "data": {
      "image/png": "[encoded data removed]",
      "text/plain": [
       "<Figure size 432x288 with 1 Axes>"
      ]
     },
     "metadata": {
      "needs_background": "light"
     },
     "output_type": "display_data"
    }
   ],
   "source": [
    "# Let's visualize this imbalance\n",
    "import matplotlib.pyplot as plt\n",
    "label_counts_df.loc['composite'].plot(kind = 'bar')"
   ]
  },
  {
   "cell_type": "markdown",
   "metadata": {},
   "source": [
    "# AWS has already trained and tested the model on the test set. \n",
    "# It's performance results are on the web and don't seem to be easily downloadable. I will try to recreate them here"
   ]
  },
  {
   "cell_type": "code",
   "execution_count": 35,
   "metadata": {},
   "outputs": [
    {
     "name": "stdout",
     "output_type": "stream",
     "text": [
      "{'errors': [], 'statistics': {'training': {'use_case': 'IMAGE_LEVEL_LABELS', 'total_json_lines': 11224, 'valid_json_lines': 11224, 'invalid_json_lines': 0, 'ignored_json_lines': 0, 'errors': [], 'error_json_line_indices': []}, 'testing': {'use_case': 'IMAGE_LEVEL_LABELS', 'total_json_lines': 2810, 'valid_json_lines': 2810, 'invalid_json_lines': 0, 'ignored_json_lines': 0, 'errors': [], 'error_json_line_indices': []}}}\n"
     ]
    }
   ],
   "source": [
    "# First, get the list of files that went into the test set\n",
    "# Maybe we can find the information in the Manifest Summary\n",
    "\n",
    "import json\n",
    "\n",
    "with open('manifest_summary.json') as f:\n",
    "    data = json.load(f)\n",
    "print(data)"
   ]
  },
  {
   "cell_type": "code",
   "execution_count": 72,
   "metadata": {},
   "outputs": [
    {
     "data": {
      "text/plain": [
       "2810"
      ]
     },
     "execution_count": 72,
     "metadata": {},
     "output_type": "execute_result"
    }
   ],
   "source": [
    "# Not very helpful, how about the other files?\n",
    "\n",
    "#with open('training_manifest_with_validation.json') as f:\n",
    "#    data = json.load(f)\n",
    "test = []  # will store a list of tuples of form (filename, class-name) in the testset.\n",
    "for line in open('testing_manifest_with_validation.json'):\n",
    "    temp = json.loads(line)\n",
    "    test.append((temp['source-ref'].split('/')[-1], temp['auto-label-metadata']['class-name']))\n",
    "    \n",
    "len(test)"
   ]
  },
  {
   "cell_type": "code",
   "execution_count": 146,
   "metadata": {},
   "outputs": [
    {
     "data": {
      "text/html": [
       "<div>\n",
       "<style scoped>\n",
       "    .dataframe tbody tr th:only-of-type {\n",
       "        vertical-align: middle;\n",
       "    }\n",
       "\n",
       "    .dataframe tbody tr th {\n",
       "        vertical-align: top;\n",
       "    }\n",
       "\n",
       "    .dataframe thead th {\n",
       "        text-align: right;\n",
       "    }\n",
       "</style>\n",
       "<table border=\"1\" class=\"dataframe\">\n",
       "  <thead>\n",
       "    <tr style=\"text-align: right;\">\n",
       "      <th></th>\n",
       "      <th>actual label</th>\n",
       "      <th>predicted label</th>\n",
       "      <th>confidence</th>\n",
       "    </tr>\n",
       "  </thead>\n",
       "  <tbody>\n",
       "    <tr>\n",
       "      <th>0</th>\n",
       "      <td>buildings</td>\n",
       "      <td>buildings</td>\n",
       "      <td>99.840996</td>\n",
       "    </tr>\n",
       "    <tr>\n",
       "      <th>1</th>\n",
       "      <td>buildings</td>\n",
       "      <td>buildings</td>\n",
       "      <td>99.092003</td>\n",
       "    </tr>\n",
       "    <tr>\n",
       "      <th>2</th>\n",
       "      <td>buildings</td>\n",
       "      <td>buildings</td>\n",
       "      <td>99.227997</td>\n",
       "    </tr>\n",
       "    <tr>\n",
       "      <th>3</th>\n",
       "      <td>buildings</td>\n",
       "      <td>buildings</td>\n",
       "      <td>99.925003</td>\n",
       "    </tr>\n",
       "    <tr>\n",
       "      <th>4</th>\n",
       "      <td>buildings</td>\n",
       "      <td>buildings</td>\n",
       "      <td>99.949997</td>\n",
       "    </tr>\n",
       "  </tbody>\n",
       "</table>\n",
       "</div>"
      ],
      "text/plain": [
       "  actual label predicted label  confidence\n",
       "0    buildings       buildings   99.840996\n",
       "1    buildings       buildings   99.092003\n",
       "2    buildings       buildings   99.227997\n",
       "3    buildings       buildings   99.925003\n",
       "4    buildings       buildings   99.949997"
      ]
     },
     "execution_count": 146,
     "metadata": {},
     "output_type": "execute_result"
    }
   ],
   "source": [
    "# This number of files checks out for the size of the test set used by AWS\n",
    "# Let's now run the model on the trained set and store the data in a DataFrame \n",
    "\n",
    "import boto3\n",
    "client = boto3.client('rekognition', 'us-west-2', aws_access_key_id = '',\\\n",
    "                      aws_secret_access_key = '')\n",
    "\n",
    "bucketName = 'intelimages2'\n",
    "#bucket_name (no CAmelCase)\n",
    "projectVersionArn = 'arn:aws:rekognition:us-west-2:031279063538:project/IntelImageClassifier/version/IntelImageClassifier.2020-11-18T13.17.07/1605730627545'\n",
    "# Below is commented because this command need not be run repeatedly\n",
    "#client.start_project_version(\n",
    "#    ProjectVersionArn = projectVersionArn,\n",
    "#    MinInferenceUnits = 1\n",
    "#)\n",
    "actual_labels = []\n",
    "pred_labels = []\n",
    "confidences = []\n",
    "\n",
    "empty_pred_images = []\n",
    "for image, label in test:\n",
    "    response = client.detect_custom_labels(\n",
    "        ProjectVersionArn = projectVersionArn,\n",
    "        Image = {\n",
    "                'S3Object': {'Bucket': bucketName, 'Name': 'seg_train/' + label + '/' + image}\n",
    "        },\n",
    "        MaxResults = 1\n",
    "    )\n",
    "#    if (len(response['CustomLabels']) > 1):\n",
    "#        print(response['CustomLabels'])\n",
    "    # I tested the above and it didn't happen. There must be more info, right? I think they are passing\n",
    "    # the highest confidence level iff it's higher than the 'assumed threshold' and thus a positive\n",
    "    # detection, otherwise the response['CustomLabels'] is an empty list\n",
    "    if (response['CustomLabels']):  # Empty list not encountered\n",
    "        actual_labels.append(label)\n",
    "        pred_labels.append(response['CustomLabels'][0]['Name'])\n",
    "        confidences.append(response['CustomLabels'][0]['Confidence'])\n",
    "    else: # It turns out, this method gives empty predictions for some images\n",
    "          # I guess we will leave these out of the analysis, though I have \n",
    "          # checked that AWS did generate prediction data for these\n",
    "        empty_pred_images.append((image, label))\n",
    "\n",
    "#results_df = pd.DataFrame({'actual label': actual_labels, 'predicted label': pred_labels, 'confidence': confidences}, \\\n",
    "#                         index = test)\n",
    "results_df = pd.DataFrame({'actual label': actual_labels, 'predicted label': pred_labels, 'confidence': confidences})\n",
    "results_df.head()\n"
   ]
  },
  {
   "cell_type": "code",
   "execution_count": 147,
   "metadata": {},
   "outputs": [
    {
     "data": {
      "text/plain": [
       "{'Status': 'STOPPING',\n",
       " 'ResponseMetadata': {'RequestId': '7b058b9b-81ba-42f4-84b9-e6e67e88c44e',\n",
       "  'HTTPStatusCode': 200,\n",
       "  'HTTPHeaders': {'content-type': 'application/x-amz-json-1.1',\n",
       "   'date': 'Fri, 20 Nov 2020 02:35:16 GMT',\n",
       "   'x-amzn-requestid': '7b058b9b-81ba-42f4-84b9-e6e67e88c44e',\n",
       "   'content-length': '21',\n",
       "   'connection': 'keep-alive'},\n",
       "  'RetryAttempts': 0}}"
      ]
     },
     "execution_count": 147,
     "metadata": {},
     "output_type": "execute_result"
    }
   ],
   "source": [
    "# Stop the model, we have all the info we need\n",
    "client.stop_project_version(ProjectVersionArn = projectVersionArn)"
   ]
  },
  {
   "cell_type": "code",
   "execution_count": null,
   "metadata": {},
   "outputs": [],
   "source": [
    "# Now I want to recreate the performance statistics found by AWS\n",
    "# Or, at least get something similar (since some of the images didn't yield responses)\n",
    "\n",
    "# But how do I know what the 'assumed threshold's are fore the different classes?\n",
    "# AWS says its based on the test set which makes it seem like a calculated value.\n",
    "# Based on what, minimizing the number of False Positives across all classes?\n",
    "# Hmm... I think I have an idea"
   ]
  },
  {
   "cell_type": "markdown",
   "metadata": {},
   "source": [
    "## Precision vs. Recall (What's the Difference??)"
   ]
  },
  {
   "cell_type": "code",
   "execution_count": 100,
   "metadata": {},
   "outputs": [
    {
     "name": "stdout",
     "output_type": "stream",
     "text": [
      "Avg Recall =  0.9510967277957569\n"
     ]
    }
   ],
   "source": [
    "# Precision is #TP / (#TP + #FP)\n",
    "# Recall is fraction of test set lables that were predicted correctly (#TP / (#TP + #FP + #FN)?\n",
    "# Or is it just the fraction of records where the predicted and actual labels match\n",
    "# Perhaps the images that didn't return a prediction didn't do so\n",
    "# because their confidence was below the assumed threshold and thus not 'positive' detections\n",
    "# In this case, they only go into the denominators for the recall calculation.\n",
    "# Let's go with this interpretation for now\n",
    "\n",
    "# Let's calculate recall first, that should be easier\n",
    "num_pred_correctly = len(results_df[results_df['actual label'] == results_df['predicted label']])\n",
    "print('Avg Recall = ', num_pred_correctly / 2781)"
   ]
  },
  {
   "cell_type": "code",
   "execution_count": 108,
   "metadata": {},
   "outputs": [
    {
     "name": "stdout",
     "output_type": "stream",
     "text": [
      "Average Recall =  0.9516014234875445\n"
     ]
    }
   ],
   "source": [
    "# AWS calculated 0.950 for this of these. The difference must have to do with the missing predictions.\n",
    "# Looking at the results on AWS, it seems there our hypothesis was correct(ish). It seems that \n",
    "# most are False Negatives. The third image, however, (8913.jpg) says True Positive on AWS. \n",
    "# I think this is because it's confidence (0.497) was rounded up to the 'assumed threshold' for this\n",
    "# label('forest') (0.5).\n",
    "\n",
    "# I could manually add the predictions from looking up the filenames on the AWS model results\n",
    "# Let's do this, and creat a sep. dataframe\n",
    "actual_labels = ['buildings'] + 2 * ['forest'] + 11 * ['glacier'] + 4 * ['mountain'] + 11 * ['sea']\n",
    "pred_labels = actual_labels\n",
    "confidences = [0.25, 0.0, 0.497, 0.144, 0.189, 0.098, 0.399, 0.293, 0.202, 0.259, 0.355, 0.127, 0.190, \\\n",
    "              0.115, 0.276, 0.210, 0.134, 0.128, 0.101, 0.813, 0.526, 0.864, 0.535, 0.570, 0.710, 0.684, \\\n",
    "              0.555, 0.885, 0.653]\n",
    "# Sea has quite a high 'assumed threshold' (0.89). The one at 88.5 shows a True Positive up there, but\n",
    "# gave me no response\n",
    "\n",
    "empty_results_df = pd.DataFrame({'actual label': actual_labels, 'predicted label': pred_labels, 'confidence': confidences})\n",
    "#empty_results_df.head()\n",
    "\n",
    "# Now let's see if the average recall has changed\n",
    "comp_df = results_df.append(empty_results_df)\n",
    "print('Average Recall = ', len(comp_df[comp_df['actual label'] == comp_df['predicted label']]) / 2810)"
   ]
  },
  {
   "cell_type": "code",
   "execution_count": 110,
   "metadata": {},
   "outputs": [
    {
     "name": "stdout",
     "output_type": "stream",
     "text": [
      "average precision =  0.9510967277957569\n"
     ]
    }
   ],
   "source": [
    "# Now it's even further from the expected 0.950.. hmmm\n",
    "# And the precision which is #TP / (#TP + #FP)\n",
    "# FPs are included in the original results_df since only\n",
    "# false negatives seem to be excluded\n",
    "num_tp = len(results_df[results_df['actual label'] == results_df['predicted label']])\n",
    "precision = num_tp / len(results_df)\n",
    "print('average precision = ', precision)"
   ]
  },
  {
   "cell_type": "code",
   "execution_count": 111,
   "metadata": {},
   "outputs": [
    {
     "name": "stdout",
     "output_type": "stream",
     "text": [
      "average precision =  0.9518158935634664\n"
     ]
    }
   ],
   "source": [
    "# Or if we include those two boundary cases as TP,\n",
    "precision = (num_tp + 2) / len(results_df)\n",
    "print('average precision = ', precision)"
   ]
  },
  {
   "cell_type": "code",
   "execution_count": 172,
   "metadata": {},
   "outputs": [
    {
     "data": {
      "image/png": "[encoded data removed]",
      "text/plain": [
       "<Figure size 864x720 with 4 Axes>"
      ]
     },
     "metadata": {
      "needs_background": "light"
     },
     "output_type": "display_data"
    }
   ],
   "source": [
    "# These numbers are close but not quite what is given by AWS and I wonder why.\n",
    "# Now let's look at precision and recall across the different classes\n",
    "\n",
    "# Let's use the 'assumed threshold's from AWS:\n",
    "thresholds = {'buildings': 0.42, 'forest': 0.50, 'glacier': 0.47, 'mountain': 0.32, \\\n",
    "              'sea': 0.89, 'street': 0.48}\n",
    "# To compute a new column ('positive') to indicate whether or not the confidence is greater than that class's threshold\n",
    "comp_df['positive'] = comp_df['confidence'] > comp_df['predicted label'].map(lambda x: thresholds[x])\n",
    "\n",
    "precision = []\n",
    "recall = []\n",
    "labels = ['buildings', 'forest', 'glacier', 'mountain', 'sea', 'street']\n",
    "for label in labels:\n",
    "    # Here, for precision neglect the two edge cases (count as FN)\n",
    "    num_tp = len(comp_df[(comp_df['actual label'] == label) & (comp_df['predicted label'] == label) & comp_df['positive']])\n",
    "    num_fp = len(comp_df[(comp_df['actual label'] == label) & (comp_df['predicted label'] != label) & comp_df['positive']])\n",
    "    num_fn = len(comp_df[(comp_df['actual label'] == label) & (comp_df['predicted label'] != label)]) \\\n",
    "           + len(comp_df[(comp_df['actual label'] == label) & (comp_df['predicted label'] == label) & ~comp_df['positive']])\n",
    "    precision.append(num_tp / (num_tp + num_fp))\n",
    "    recall.append(num_tp / (num_tp + num_fn))\n",
    "\n",
    "perf = pd.DataFrame({'precision': precision, 'recall': recall}, index = labels)\n",
    "\n",
    "# Now manually construct perf_aws (performance measures) from the data there to compare\n",
    "precision = [0.968, 0.987, 0.890, 0.911, 0.991, 0.951]\n",
    "recall = [0.950, 0.993, 0.906, 0.917, 0.954, 0.979]\n",
    "perf_aws = pd.DataFrame({'precision': precision, 'recall': recall}, index = labels)\n",
    "\n",
    "fig = plt.figure(figsize = (12, 10))\n",
    "title = fig.suptitle(\"Model Performance (AWS vs. API)\", fontsize=14)\n",
    "fig.subplots_adjust(top=0.85, wspace=0.3)\n",
    "\n",
    "ax1 = fig.add_subplot(2, 2, 1)\n",
    "ax1.set_title(\"AWS\")\n",
    "ax1.set_xlabel(\"Class\")\n",
    "ax1.set_ylabel(\"Precision\") \n",
    "ax1.set_ylim(0.8, 1.0)\n",
    "ax1.tick_params(axis='both', which='major', labelsize=8.5)\n",
    "bar1 = ax1.bar(labels, perf_aws['precision'], color='blue', \n",
    "               edgecolor='black', linewidth=1)\n",
    "\n",
    "ax2 = fig.add_subplot(2, 2, 2)\n",
    "ax2.set_title(\"AWS\")\n",
    "ax2.set_xlabel(\"Class\")\n",
    "ax2.set_ylabel(\"Recall\") \n",
    "ax2.set_ylim(0.8, 1.0)\n",
    "ax2.tick_params(axis='both', which='major', labelsize=8.5)\n",
    "bar2 = ax2.bar(labels, perf_aws['recall'], color='black', \n",
    "               edgecolor='black', linewidth=1)\n",
    "\n",
    "ax3 = fig.add_subplot(2, 2, 3)\n",
    "ax3.set_title(\"API\")\n",
    "ax3.set_xlabel(\"Class\")\n",
    "ax3.set_ylabel(\"Precision\") \n",
    "ax3.set_ylim(0.8, 1.0)\n",
    "ax3.tick_params(axis='both', which='major', labelsize=8.5)\n",
    "bar3 = ax3.bar(labels, perf['precision'], color='white', \n",
    "               edgecolor='black', linewidth=1)\n",
    "\n",
    "ax4 = fig.add_subplot(2, 2, 4)\n",
    "ax4.set_title(\"API\")\n",
    "ax4.set_xlabel(\"Class\")\n",
    "ax4.set_ylabel(\"Recall\") \n",
    "ax4.set_ylim(0.8, 1.0)\n",
    "ax4.tick_params(axis='both', which='major', labelsize=8.5)\n",
    "bar4 = ax4.bar(labels, perf['recall'], color='cyan', \n",
    "               edgecolor='black', linewidth=1)"
   ]
  },
  {
   "cell_type": "code",
   "execution_count": 101,
   "metadata": {},
   "outputs": [
    {
     "data": {
      "text/plain": [
       "[('16423.jpg', 'buildings'),\n",
       " ('10154.jpg', 'forest'),\n",
       " ('8913.jpg', 'forest'),\n",
       " ('11144.jpg', 'glacier'),\n",
       " ('12083.jpg', 'glacier'),\n",
       " ('12634.jpg', 'glacier'),\n",
       " ('14159.jpg', 'glacier'),\n",
       " ('16027.jpg', 'glacier'),\n",
       " ('2000.jpg', 'glacier'),\n",
       " ('20030.jpg', 'glacier'),\n",
       " ('4238.jpg', 'glacier'),\n",
       " ('5388.jpg', 'glacier'),\n",
       " ('6516.jpg', 'glacier'),\n",
       " ('9385.jpg', 'glacier'),\n",
       " ('1257.jpg', 'mountain'),\n",
       " ('16252.jpg', 'mountain'),\n",
       " ('17026.jpg', 'mountain'),\n",
       " ('1799.jpg', 'mountain'),\n",
       " ('10080.jpg', 'sea'),\n",
       " ('10556.jpg', 'sea'),\n",
       " ('11039.jpg', 'sea'),\n",
       " ('13479.jpg', 'sea'),\n",
       " ('14048.jpg', 'sea'),\n",
       " ('18590.jpg', 'sea'),\n",
       " ('5127.jpg', 'sea'),\n",
       " ('569.jpg', 'sea'),\n",
       " ('9057.jpg', 'sea'),\n",
       " ('9093.jpg', 'sea'),\n",
       " ('912.jpg', 'sea')]"
      ]
     },
     "execution_count": 101,
     "metadata": {},
     "output_type": "execute_result"
    }
   ],
   "source": [
    "# I just learned, that for Multiclass problems, when computing the total "
   ]
  },
  {
   "cell_type": "code",
   "execution_count": null,
   "metadata": {},
   "outputs": [],
   "source": []
  }
 ],
 "metadata": {
  "kernelspec": {
   "display_name": "Python 3",
   "language": "python",
   "name": "python3"
  },
  "language_info": {
   "codemirror_mode": {
    "name": "ipython",
    "version": 3
   },
   "file_extension": ".py",
   "mimetype": "text/x-python",
   "name": "python",
   "nbconvert_exporter": "python",
   "pygments_lexer": "ipython3",
   "version": "3.7.6"
  }
 },
 "nbformat": 4,
 "nbformat_minor": 4
}

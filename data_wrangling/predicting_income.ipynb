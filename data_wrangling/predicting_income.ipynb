{
 "cells": [
  {
   "cell_type": "code",
   "execution_count": 1,
   "metadata": {},
   "outputs": [],
   "source": [
    "import numpy as np\n",
    "import pandas as pd\n",
    "\n",
    "# don't have this data, will just take notes on interesting things in video"
   ]
  },
  {
   "cell_type": "code",
   "execution_count": null,
   "metadata": {},
   "outputs": [],
   "source": [
    "# X are the features, Y are the labels\n",
    "#pd.get_dummies(X['education'].head(5)) # handly categorical values, can also create other"
   ]
  },
  {
   "cell_type": "markdown",
   "metadata": {},
   "source": [
    "## Handling Missing Data"
   ]
  },
  {
   "cell_type": "code",
   "execution_count": 2,
   "metadata": {},
   "outputs": [
    {
     "ename": "NameError",
     "evalue": "name 'X' is not defined",
     "output_type": "error",
     "traceback": [
      "\u001b[0;31m---------------------------------------------------------------------------\u001b[0m",
      "\u001b[0;31mNameError\u001b[0m                                 Traceback (most recent call last)",
      "\u001b[0;32m<ipython-input-2-6f1849e2c5b6>\u001b[0m in \u001b[0;36m<module>\u001b[0;34m\u001b[0m\n\u001b[0;32m----> 1\u001b[0;31m \u001b[0mX\u001b[0m\u001b[0;34m.\u001b[0m\u001b[0misnull\u001b[0m\u001b[0;34m(\u001b[0m\u001b[0;34m)\u001b[0m\u001b[0;34m.\u001b[0m\u001b[0msum\u001b[0m\u001b[0;34m(\u001b[0m\u001b[0;34m)\u001b[0m\u001b[0;34m.\u001b[0m\u001b[0msort_values\u001b[0m\u001b[0;34m(\u001b[0m\u001b[0mascending\u001b[0m \u001b[0;34m=\u001b[0m \u001b[0;32mFalse\u001b[0m\u001b[0;34m)\u001b[0m\u001b[0;34m.\u001b[0m\u001b[0mhead\u001b[0m\u001b[0;34m(\u001b[0m\u001b[0;34m)\u001b[0m\u001b[0;34m\u001b[0m\u001b[0;34m\u001b[0m\u001b[0m\n\u001b[0m",
      "\u001b[0;31mNameError\u001b[0m: name 'X' is not defined"
     ]
    }
   ],
   "source": [
    "%X.isnull().sum().sort_values(ascending = False).head()"
   ]
  },
  {
   "cell_type": "code",
   "execution_count": 3,
   "metadata": {},
   "outputs": [],
   "source": [
    "#from sklearn.preprocessing import Imputer\n",
    "\n",
    "#imp = Imputer(missing_values = 'NaN', strategy = 'median' , axis = 0)\n",
    "#imp.fit(X)\n",
    "#X = pd.DataFrame(data=imp.transform(X), columns = X.columns)"
   ]
  },
  {
   "cell_type": "markdown",
   "metadata": {},
   "source": [
    "## More Data Exploration"
   ]
  },
  {
   "cell_type": "code",
   "execution_count": 4,
   "metadata": {},
   "outputs": [],
   "source": [
    "# Tukey IQR\n",
    "# values below Q1 - 1.5 * IQR and above Q3 + 1.5 * IQR\n",
    "\n",
    "# Kernel Density Estimation (captures bimodal distributions better)\n",
    "#from sklearn.preprocessing import scale\n",
    "#from statsmodels.nonparameteric.kde import KDE Univariate\n",
    "\n",
    "#def find_outliers_kde(x):\n",
    "#    x_scaled = scale(list(map(float, x)))\n",
    "#    kde = KDEUnivariate(x_scaled)\n",
    "#    kde.fit(bw='scott', fft=True)\n",
    "#    pred = kde.evaluate(x_scaled)\n",
    "    \n",
    "#    n = sum|pred < 0.05| ?? or []\n",
    "#    outlier_ind = np.asarra(pred).argsort()[:n]\n",
    "#    outlier_value = np.asarray(x)[outlier_ind]\n",
    "    \n",
    "#    return outlier_ind, outlier_value\n",
    "    "
   ]
  },
  {
   "cell_type": "markdown",
   "metadata": {},
   "source": [
    "## Distribution of Features"
   ]
  },
  {
   "cell_type": "code",
   "execution_count": 5,
   "metadata": {},
   "outputs": [],
   "source": [
    "# histogram for each outcome (label)"
   ]
  },
  {
   "cell_type": "markdown",
   "metadata": {},
   "source": [
    "## Feature Engineering"
   ]
  },
  {
   "cell_type": "code",
   "execution_count": 6,
   "metadata": {},
   "outputs": [],
   "source": [
    "#Increase Dimensionality\n",
    "# Add interactions between features (multiply them)\n",
    "#Use PolynomialFeatures in sklearn.prepocessing to create 2-way interactions for all features\n",
    "\n",
    "#Dimensionality Reduction\n",
    "#Principal Component Analysis(PCA) is a technique that transforms a dataset of many features into \n",
    "#principal components that 'summarize' the variance that underlies the data\n",
    "# Hard to interpret models\n",
    "#from sklearn.decomposition import PCA\n",
    "#pca = PCA(n_components = 10)\n",
    "#X_pca = pd.DataFrame(pca.fit_transform(X))\n",
    "\n"
   ]
  },
  {
   "cell_type": "markdown",
   "metadata": {},
   "source": [
    "## Feature Selection and model building"
   ]
  },
  {
   "cell_type": "code",
   "execution_count": null,
   "metadata": {},
   "outputs": [],
   "source": [
    "#from sklearn.cross_validation import train_test_split\n",
    "#X_train, X_test, y_train, y_test = train_test_split(X, y, train_size = 0.70, random_state = 1)\n",
    "\n",
    "#import sklearn.feature_selection\n",
    "\n",
    "#select = sklearn.feature_selection.SelectKBest(k=20)\n",
    "#selected_features = select.fit(X_train, y_train)\n",
    "#indices_selected = selected_features.get_support(indices = True)\n",
    "#colnames_selected = [X.columns[i] for i in indices_selected]\n",
    "\n",
    "#X_train_selected = X_train[colnames_selected]\n",
    "#X_test_selected = X_test[colnames_selected]\n",
    "\n",
    "#from sklearn.linear_model import LogisticRegression\n",
    "#from sklearn.metrics import roc_auc_score\n",
    "\n",
    "#def find_model_perf(X_train, y_train, X_test, y_test):\n",
    "#    model = LogisticRegression()\n",
    "#    model.fit(X_train, y_train)\n",
    "#    y_hat = [x[1] for x in model.predict_proba(X_test)]\n",
    "#    auc = roc_auc_score(y_test, y_hat)\n",
    "    \n",
    "#    return auc\n",
    "\n",
    "# Then do model on 'unprocessed' data, still need to handle missing data and convert categorical vars\n",
    "# auc went down "
   ]
  }
 ],
 "metadata": {
  "kernelspec": {
   "display_name": "Python 3",
   "language": "python",
   "name": "python3"
  },
  "language_info": {
   "codemirror_mode": {
    "name": "ipython",
    "version": 3
   },
   "file_extension": ".py",
   "mimetype": "text/x-python",
   "name": "python",
   "nbconvert_exporter": "python",
   "pygments_lexer": "ipython3",
   "version": "3.7.6"
  }
 },
 "nbformat": 4,
 "nbformat_minor": 4
}

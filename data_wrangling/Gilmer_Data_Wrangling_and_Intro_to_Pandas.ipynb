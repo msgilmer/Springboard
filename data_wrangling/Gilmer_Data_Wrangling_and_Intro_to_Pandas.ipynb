{
 "cells": [
  {
   "cell_type": "code",
   "execution_count": 3,
   "metadata": {},
   "outputs": [],
   "source": [
    "import pandas as pd\n",
    "# to imbed plots, prevents pop-up windows for plots\n",
    "%matplotlib inline"
   ]
  },
  {
   "cell_type": "code",
   "execution_count": 4,
   "metadata": {},
   "outputs": [
    {
     "data": {
      "text/html": [
       "<div>\n",
       "<style scoped>\n",
       "    .dataframe tbody tr th:only-of-type {\n",
       "        vertical-align: middle;\n",
       "    }\n",
       "\n",
       "    .dataframe tbody tr th {\n",
       "        vertical-align: top;\n",
       "    }\n",
       "\n",
       "    .dataframe thead th {\n",
       "        text-align: right;\n",
       "    }\n",
       "</style>\n",
       "<table border=\"1\" class=\"dataframe\">\n",
       "  <thead>\n",
       "    <tr style=\"text-align: right;\">\n",
       "      <th></th>\n",
       "      <th>Open</th>\n",
       "      <th>High</th>\n",
       "      <th>Low</th>\n",
       "      <th>Close</th>\n",
       "      <th>Volume</th>\n",
       "    </tr>\n",
       "    <tr>\n",
       "      <th>Date</th>\n",
       "      <th></th>\n",
       "      <th></th>\n",
       "      <th></th>\n",
       "      <th></th>\n",
       "      <th></th>\n",
       "    </tr>\n",
       "  </thead>\n",
       "  <tbody>\n",
       "    <tr>\n",
       "      <th>2010-01-04</th>\n",
       "      <td>313.16</td>\n",
       "      <td>314.44</td>\n",
       "      <td>311.81</td>\n",
       "      <td>313.06</td>\n",
       "      <td>NaN</td>\n",
       "    </tr>\n",
       "    <tr>\n",
       "      <th>2010-01-05</th>\n",
       "      <td>313.28</td>\n",
       "      <td>313.61</td>\n",
       "      <td>310.46</td>\n",
       "      <td>311.68</td>\n",
       "      <td>NaN</td>\n",
       "    </tr>\n",
       "    <tr>\n",
       "      <th>2010-01-06</th>\n",
       "      <td>312.62</td>\n",
       "      <td>312.62</td>\n",
       "      <td>302.88</td>\n",
       "      <td>303.83</td>\n",
       "      <td>NaN</td>\n",
       "    </tr>\n",
       "    <tr>\n",
       "      <th>2010-01-07</th>\n",
       "      <td>304.40</td>\n",
       "      <td>304.70</td>\n",
       "      <td>296.03</td>\n",
       "      <td>296.75</td>\n",
       "      <td>NaN</td>\n",
       "    </tr>\n",
       "    <tr>\n",
       "      <th>2010-01-08</th>\n",
       "      <td>295.70</td>\n",
       "      <td>301.32</td>\n",
       "      <td>294.26</td>\n",
       "      <td>300.71</td>\n",
       "      <td>NaN</td>\n",
       "    </tr>\n",
       "    <tr>\n",
       "      <th>...</th>\n",
       "      <td>...</td>\n",
       "      <td>...</td>\n",
       "      <td>...</td>\n",
       "      <td>...</td>\n",
       "      <td>...</td>\n",
       "    </tr>\n",
       "    <tr>\n",
       "      <th>2014-12-24</th>\n",
       "      <td>530.51</td>\n",
       "      <td>531.76</td>\n",
       "      <td>527.02</td>\n",
       "      <td>528.77</td>\n",
       "      <td>704035.0</td>\n",
       "    </tr>\n",
       "    <tr>\n",
       "      <th>2014-12-26</th>\n",
       "      <td>528.77</td>\n",
       "      <td>534.25</td>\n",
       "      <td>527.31</td>\n",
       "      <td>534.03</td>\n",
       "      <td>1037727.0</td>\n",
       "    </tr>\n",
       "    <tr>\n",
       "      <th>2014-12-29</th>\n",
       "      <td>532.19</td>\n",
       "      <td>535.48</td>\n",
       "      <td>530.01</td>\n",
       "      <td>530.33</td>\n",
       "      <td>2276104.0</td>\n",
       "    </tr>\n",
       "    <tr>\n",
       "      <th>2014-12-30</th>\n",
       "      <td>528.09</td>\n",
       "      <td>531.15</td>\n",
       "      <td>527.13</td>\n",
       "      <td>530.42</td>\n",
       "      <td>873923.0</td>\n",
       "    </tr>\n",
       "    <tr>\n",
       "      <th>2014-12-31</th>\n",
       "      <td>531.25</td>\n",
       "      <td>532.60</td>\n",
       "      <td>525.80</td>\n",
       "      <td>526.40</td>\n",
       "      <td>1371819.0</td>\n",
       "    </tr>\n",
       "  </tbody>\n",
       "</table>\n",
       "<p>1257 rows × 5 columns</p>\n",
       "</div>"
      ],
      "text/plain": [
       "              Open    High     Low   Close     Volume\n",
       "Date                                                 \n",
       "2010-01-04  313.16  314.44  311.81  313.06        NaN\n",
       "2010-01-05  313.28  313.61  310.46  311.68        NaN\n",
       "2010-01-06  312.62  312.62  302.88  303.83        NaN\n",
       "2010-01-07  304.40  304.70  296.03  296.75        NaN\n",
       "2010-01-08  295.70  301.32  294.26  300.71        NaN\n",
       "...            ...     ...     ...     ...        ...\n",
       "2014-12-24  530.51  531.76  527.02  528.77   704035.0\n",
       "2014-12-26  528.77  534.25  527.31  534.03  1037727.0\n",
       "2014-12-29  532.19  535.48  530.01  530.33  2276104.0\n",
       "2014-12-30  528.09  531.15  527.13  530.42   873923.0\n",
       "2014-12-31  531.25  532.60  525.80  526.40  1371819.0\n",
       "\n",
       "[1257 rows x 5 columns]"
      ]
     },
     "execution_count": 4,
     "metadata": {},
     "output_type": "execute_result"
    }
   ],
   "source": [
    "google = pd.read_csv('strata_data-master/data/goog.csv', index_col='Date', parse_dates = True)\n",
    "google"
   ]
  },
  {
   "cell_type": "code",
   "execution_count": 5,
   "metadata": {
    "scrolled": true
   },
   "outputs": [
    {
     "ename": "NotImplementedError",
     "evalue": "data_source='google' is not implemented",
     "output_type": "error",
     "traceback": [
      "\u001b[0;31m---------------------------------------------------------------------------\u001b[0m",
      "\u001b[0;31mNotImplementedError\u001b[0m                       Traceback (most recent call last)",
      "\u001b[0;32m<ipython-input-5-467c86e9d357>\u001b[0m in \u001b[0;36m<module>\u001b[0;34m\u001b[0m\n\u001b[1;32m      4\u001b[0m \u001b[0mstart\u001b[0m \u001b[0;34m=\u001b[0m \u001b[0mpd\u001b[0m\u001b[0;34m.\u001b[0m\u001b[0mTimestamp\u001b[0m\u001b[0;34m(\u001b[0m\u001b[0;34m'2010-1-1'\u001b[0m\u001b[0;34m)\u001b[0m\u001b[0;34m\u001b[0m\u001b[0;34m\u001b[0m\u001b[0m\n\u001b[1;32m      5\u001b[0m \u001b[0mend\u001b[0m \u001b[0;34m=\u001b[0m \u001b[0mpd\u001b[0m\u001b[0;34m.\u001b[0m\u001b[0mTimestamp\u001b[0m\u001b[0;34m(\u001b[0m\u001b[0;34m'2014-12-31'\u001b[0m\u001b[0;34m)\u001b[0m\u001b[0;34m\u001b[0m\u001b[0;34m\u001b[0m\u001b[0m\n\u001b[0;32m----> 6\u001b[0;31m \u001b[0mgoogle\u001b[0m \u001b[0;34m=\u001b[0m \u001b[0mpd_data\u001b[0m\u001b[0;34m.\u001b[0m\u001b[0mDataReader\u001b[0m\u001b[0;34m(\u001b[0m\u001b[0;34m\"GOOG\"\u001b[0m\u001b[0;34m,\u001b[0m \u001b[0;34m'google'\u001b[0m\u001b[0;34m,\u001b[0m \u001b[0mstart\u001b[0m\u001b[0;34m,\u001b[0m \u001b[0mend\u001b[0m\u001b[0;34m)\u001b[0m\u001b[0;34m\u001b[0m\u001b[0;34m\u001b[0m\u001b[0m\n\u001b[0m",
      "\u001b[0;32m/opt/anaconda3/lib/python3.7/site-packages/pandas/util/_decorators.py\u001b[0m in \u001b[0;36mwrapper\u001b[0;34m(*args, **kwargs)\u001b[0m\n\u001b[1;32m    212\u001b[0m                 \u001b[0;32melse\u001b[0m\u001b[0;34m:\u001b[0m\u001b[0;34m\u001b[0m\u001b[0;34m\u001b[0m\u001b[0m\n\u001b[1;32m    213\u001b[0m                     \u001b[0mkwargs\u001b[0m\u001b[0;34m[\u001b[0m\u001b[0mnew_arg_name\u001b[0m\u001b[0;34m]\u001b[0m \u001b[0;34m=\u001b[0m \u001b[0mnew_arg_value\u001b[0m\u001b[0;34m\u001b[0m\u001b[0;34m\u001b[0m\u001b[0m\n\u001b[0;32m--> 214\u001b[0;31m             \u001b[0;32mreturn\u001b[0m \u001b[0mfunc\u001b[0m\u001b[0;34m(\u001b[0m\u001b[0;34m*\u001b[0m\u001b[0margs\u001b[0m\u001b[0;34m,\u001b[0m \u001b[0;34m**\u001b[0m\u001b[0mkwargs\u001b[0m\u001b[0;34m)\u001b[0m\u001b[0;34m\u001b[0m\u001b[0;34m\u001b[0m\u001b[0m\n\u001b[0m\u001b[1;32m    215\u001b[0m \u001b[0;34m\u001b[0m\u001b[0m\n\u001b[1;32m    216\u001b[0m         \u001b[0;32mreturn\u001b[0m \u001b[0mcast\u001b[0m\u001b[0;34m(\u001b[0m\u001b[0mF\u001b[0m\u001b[0;34m,\u001b[0m \u001b[0mwrapper\u001b[0m\u001b[0;34m)\u001b[0m\u001b[0;34m\u001b[0m\u001b[0;34m\u001b[0m\u001b[0m\n",
      "\u001b[0;32m/opt/anaconda3/lib/python3.7/site-packages/pandas_datareader/data.py\u001b[0m in \u001b[0;36mDataReader\u001b[0;34m(name, data_source, start, end, retry_count, pause, session, api_key)\u001b[0m\n\u001b[1;32m    371\u001b[0m     \u001b[0;32mif\u001b[0m \u001b[0mdata_source\u001b[0m \u001b[0;32mnot\u001b[0m \u001b[0;32min\u001b[0m \u001b[0mexpected_source\u001b[0m\u001b[0;34m:\u001b[0m\u001b[0;34m\u001b[0m\u001b[0;34m\u001b[0m\u001b[0m\n\u001b[1;32m    372\u001b[0m         \u001b[0mmsg\u001b[0m \u001b[0;34m=\u001b[0m \u001b[0;34m\"data_source=%r is not implemented\"\u001b[0m \u001b[0;34m%\u001b[0m \u001b[0mdata_source\u001b[0m\u001b[0;34m\u001b[0m\u001b[0;34m\u001b[0m\u001b[0m\n\u001b[0;32m--> 373\u001b[0;31m         \u001b[0;32mraise\u001b[0m \u001b[0mNotImplementedError\u001b[0m\u001b[0;34m(\u001b[0m\u001b[0mmsg\u001b[0m\u001b[0;34m)\u001b[0m\u001b[0;34m\u001b[0m\u001b[0;34m\u001b[0m\u001b[0m\n\u001b[0m\u001b[1;32m    374\u001b[0m \u001b[0;34m\u001b[0m\u001b[0m\n\u001b[1;32m    375\u001b[0m     \u001b[0;32mif\u001b[0m \u001b[0mdata_source\u001b[0m \u001b[0;34m==\u001b[0m \u001b[0;34m\"yahoo\"\u001b[0m\u001b[0;34m:\u001b[0m\u001b[0;34m\u001b[0m\u001b[0;34m\u001b[0m\u001b[0m\n",
      "\u001b[0;31mNotImplementedError\u001b[0m: data_source='google' is not implemented"
     ]
    }
   ],
   "source": [
    "# Reading data from the Web\n",
    "from pandas_datareader import data as pd_data\n",
    "\n",
    "start = pd.Timestamp('2010-1-1')\n",
    "end = pd.Timestamp('2014-12-31')\n",
    "google = pd_data.DataReader(\"GOOG\", 'google', start, end)"
   ]
  },
  {
   "cell_type": "code",
   "execution_count": null,
   "metadata": {},
   "outputs": [],
   "source": [
    "# Skipping execution on everything dealing with the google object since it doesn't work\n",
    "# He just goes over simple pandas inspection/slicing.\n",
    "\n",
    "# Filtering:\n",
    "# google_up = google[google['Close'] > google['Open']]\n",
    "# google_filtered = google[pd.isnull(google['Volume']) == False]\n",
    "\n",
    "# Statistics:\n",
    "# google.describe()\n",
    "\n",
    "# Computations:\n",
    "# google['Return'] = google['Close'].pct_change()\n",
    "\n",
    "# import numpy as np\n",
    "# google['LogReturn'] = np.log(1 + google['Return'])\n",
    "\n",
    "# Visualizations:\n",
    "#google[['Close', 'Volatility']].plot(subplots = True, figsize=(15, 6))"
   ]
  },
  {
   "cell_type": "code",
   "execution_count": 6,
   "metadata": {},
   "outputs": [
    {
     "data": {
      "text/plain": [
       "'1.0.1'"
      ]
     },
     "execution_count": 6,
     "metadata": {},
     "output_type": "execute_result"
    }
   ],
   "source": [
    "import numpy as np\n",
    "\n",
    "import matplotlib.pyplot as plt\n",
    "%matplotlib inline\n",
    "\n",
    "import pandas as pd\n",
    "\n",
    "pd.options.display.max_rows = 8\n",
    "pd.options.display.max_columns = 8\n",
    "\n",
    "pd.__version__"
   ]
  },
  {
   "cell_type": "code",
   "execution_count": 7,
   "metadata": {},
   "outputs": [
    {
     "name": "stdout",
     "output_type": "stream",
     "text": [
      "\n",
      "\n",
      "0          gamma Cep b\n",
      "1          HD 114762 b\n",
      "2       PSR B1257+12 B\n",
      "3       PSR B1257+12 A\n",
      "             ...      \n",
      "1638         WASP-89 b\n",
      "1639         HD 1666 b\n",
      "1640        HD 95127 b\n",
      "1641      Kepler-432 c\n",
      "Name: NAME, Length: 1642, dtype: object\n",
      "\n",
      "\n",
      "<class 'pandas.core.series.Series'>\n"
     ]
    }
   ],
   "source": [
    "file = \"strata_data-master/data/exoplanets.csv\"\n",
    "data = pd.read_csv(file)\n",
    "series = data['NAME']\n",
    "\n",
    "print('\\n')\n",
    "print(series)\n",
    "\n",
    "print('\\n')\n",
    "print(type(series))"
   ]
  },
  {
   "cell_type": "code",
   "execution_count": 8,
   "metadata": {},
   "outputs": [
    {
     "data": {
      "text/plain": [
       "0     5\n",
       "1    10\n",
       "2    15\n",
       "3    20\n",
       "4    25\n",
       "dtype: int64"
      ]
     },
     "execution_count": 8,
     "metadata": {},
     "output_type": "execute_result"
    }
   ],
   "source": [
    "new_list = [5, 10, 15, 20, 25]\n",
    "pd.Series(new_list)\n",
    "# Can also do this with dictionaries"
   ]
  },
  {
   "cell_type": "code",
   "execution_count": 9,
   "metadata": {},
   "outputs": [
    {
     "data": {
      "text/plain": [
       "b    100\n",
       "a    200\n",
       "d    450\n",
       "c    700\n",
       "dtype: int64"
      ]
     },
     "execution_count": 9,
     "metadata": {},
     "output_type": "execute_result"
    }
   ],
   "source": [
    "from collections import OrderedDict\n",
    "od = OrderedDict([('b', 100), ('a', 200), ('d', 450), ('c', 700)])\n",
    "pd.Series(od)"
   ]
  },
  {
   "cell_type": "code",
   "execution_count": 10,
   "metadata": {},
   "outputs": [
    {
     "data": {
      "text/plain": [
       "RangeIndex(start=0, stop=2, step=1)"
      ]
     },
     "execution_count": 10,
     "metadata": {},
     "output_type": "execute_result"
    }
   ],
   "source": [
    "array1 = np.arange(1.6)*10.0\n",
    "series1 = pd.Series(array1)\n",
    "\n",
    "series1.index"
   ]
  },
  {
   "cell_type": "code",
   "execution_count": 11,
   "metadata": {},
   "outputs": [
    {
     "name": "stdout",
     "output_type": "stream",
     "text": [
      "0.0\n"
     ]
    }
   ],
   "source": [
    "print(series1.iloc[0])"
   ]
  },
  {
   "cell_type": "code",
   "execution_count": 12,
   "metadata": {},
   "outputs": [],
   "source": [
    "index2 = ['a', 'b']\n",
    "series2 = pd.Series(np.arange(1.6)*20.0, index = index2)"
   ]
  },
  {
   "cell_type": "code",
   "execution_count": 13,
   "metadata": {},
   "outputs": [
    {
     "data": {
      "text/plain": [
       "0.0"
      ]
     },
     "execution_count": 13,
     "metadata": {},
     "output_type": "execute_result"
    }
   ],
   "source": [
    "series2.loc['a']"
   ]
  },
  {
   "cell_type": "code",
   "execution_count": 14,
   "metadata": {},
   "outputs": [
    {
     "name": "stdout",
     "output_type": "stream",
     "text": [
      "a 0.0\n",
      "b 20.0\n"
     ]
    }
   ],
   "source": [
    "for key, value in series2.iteritems():\n",
    "    print(key, value)"
   ]
  },
  {
   "cell_type": "code",
   "execution_count": 15,
   "metadata": {},
   "outputs": [
    {
     "name": "stdout",
     "output_type": "stream",
     "text": [
      "a     0.0\n",
      "b    20.0\n",
      "dtype: float64\n"
     ]
    }
   ],
   "source": [
    "print(series2.loc['a':'b'])\n",
    "# when indexing with labels, endpoint is INCLUSIVE"
   ]
  },
  {
   "cell_type": "code",
   "execution_count": 16,
   "metadata": {},
   "outputs": [
    {
     "data": {
      "text/plain": [
       "a    0.0\n",
       "dtype: float64"
      ]
     },
     "execution_count": 16,
     "metadata": {},
     "output_type": "execute_result"
    }
   ],
   "source": [
    "series2.loc['a':'b':2]"
   ]
  },
  {
   "cell_type": "code",
   "execution_count": 17,
   "metadata": {},
   "outputs": [
    {
     "data": {
      "text/plain": [
       "[<matplotlib.lines.Line2D at 0x115473550>]"
      ]
     },
     "execution_count": 17,
     "metadata": {},
     "output_type": "execute_result"
    },
    {
     "data": {
      "image/png": "[encoded data removed]",
      "text/plain": [
       "<Figure size 432x288 with 1 Axes>"
      ]
     },
     "metadata": {
      "needs_background": "light"
     },
     "output_type": "display_data"
    }
   ],
   "source": [
    "# Series Arithmetic\n",
    "series_2pi = pd.Series(np.linspace(-1*np.pi, 1*np.pi, 100))\n",
    "series_sine = np.sin(series_2pi)\n",
    "plt.plot(series_2pi, series_sine)"
   ]
  },
  {
   "cell_type": "code",
   "execution_count": 18,
   "metadata": {},
   "outputs": [
    {
     "name": "stdout",
     "output_type": "stream",
     "text": [
      "a    31.0\n",
      "b     NaN\n",
      "c    23.0\n",
      "d     NaN\n",
      "dtype: float64\n"
     ]
    }
   ],
   "source": [
    "series1 = pd.Series([1, 2, 3], index = ['a', 'b', 'c'])\n",
    "series2 = pd.Series([10, 20, 30], index = ['d', 'c', 'a'])\n",
    "print(series1 + series2)\n",
    "# pandas defaults to outer join"
   ]
  },
  {
   "cell_type": "code",
   "execution_count": 19,
   "metadata": {
    "scrolled": true
   },
   "outputs": [
    {
     "data": {
      "text/html": [
       "<div>\n",
       "<style scoped>\n",
       "    .dataframe tbody tr th:only-of-type {\n",
       "        vertical-align: middle;\n",
       "    }\n",
       "\n",
       "    .dataframe tbody tr th {\n",
       "        vertical-align: top;\n",
       "    }\n",
       "\n",
       "    .dataframe thead th {\n",
       "        text-align: right;\n",
       "    }\n",
       "</style>\n",
       "<table border=\"1\" class=\"dataframe\">\n",
       "  <thead>\n",
       "    <tr style=\"text-align: right;\">\n",
       "      <th></th>\n",
       "      <th>0</th>\n",
       "      <th>1</th>\n",
       "    </tr>\n",
       "  </thead>\n",
       "  <tbody>\n",
       "    <tr>\n",
       "      <th>a</th>\n",
       "      <td>1.0</td>\n",
       "      <td>30.0</td>\n",
       "    </tr>\n",
       "    <tr>\n",
       "      <th>b</th>\n",
       "      <td>2.0</td>\n",
       "      <td>NaN</td>\n",
       "    </tr>\n",
       "    <tr>\n",
       "      <th>c</th>\n",
       "      <td>3.0</td>\n",
       "      <td>20.0</td>\n",
       "    </tr>\n",
       "    <tr>\n",
       "      <th>d</th>\n",
       "      <td>NaN</td>\n",
       "      <td>10.0</td>\n",
       "    </tr>\n",
       "  </tbody>\n",
       "</table>\n",
       "</div>"
      ],
      "text/plain": [
       "     0     1\n",
       "a  1.0  30.0\n",
       "b  2.0   NaN\n",
       "c  3.0  20.0\n",
       "d  NaN  10.0"
      ]
     },
     "execution_count": 19,
     "metadata": {},
     "output_type": "execute_result"
    }
   ],
   "source": [
    "pd.concat([series1, series2], axis = 1)"
   ]
  },
  {
   "cell_type": "code",
   "execution_count": 20,
   "metadata": {},
   "outputs": [
    {
     "data": {
      "text/html": [
       "<div>\n",
       "<style scoped>\n",
       "    .dataframe tbody tr th:only-of-type {\n",
       "        vertical-align: middle;\n",
       "    }\n",
       "\n",
       "    .dataframe tbody tr th {\n",
       "        vertical-align: top;\n",
       "    }\n",
       "\n",
       "    .dataframe thead th {\n",
       "        text-align: right;\n",
       "    }\n",
       "</style>\n",
       "<table border=\"1\" class=\"dataframe\">\n",
       "  <thead>\n",
       "    <tr style=\"text-align: right;\">\n",
       "      <th></th>\n",
       "      <th>NAME</th>\n",
       "      <th>FIRSTREF</th>\n",
       "      <th>FIRSTURL</th>\n",
       "      <th>DATE</th>\n",
       "      <th>...</th>\n",
       "      <th>RA_STRING(h:m:s)</th>\n",
       "      <th>DEC_STRING(d:m:s)</th>\n",
       "      <th>STAR_MASS(msun)</th>\n",
       "      <th>STAR_RADIUS(rsun)</th>\n",
       "    </tr>\n",
       "  </thead>\n",
       "  <tbody>\n",
       "    <tr>\n",
       "      <th>0</th>\n",
       "      <td>gamma Cep b</td>\n",
       "      <td>Campbell 1988</td>\n",
       "      <td>http://adsabs.harvard.edu/abs/1988ApJ...331..902C</td>\n",
       "      <td>1988</td>\n",
       "      <td>...</td>\n",
       "      <td>+23:39:20.98</td>\n",
       "      <td>+77:37:55.08</td>\n",
       "      <td>1.260000</td>\n",
       "      <td>5.010000</td>\n",
       "    </tr>\n",
       "    <tr>\n",
       "      <th>1</th>\n",
       "      <td>HD 114762 b</td>\n",
       "      <td>Latham 1989</td>\n",
       "      <td>http://adsabs.harvard.edu/abs/1989Natur.339...38L</td>\n",
       "      <td>1989</td>\n",
       "      <td>...</td>\n",
       "      <td>+13:12:20.10</td>\n",
       "      <td>+17:31:01.66</td>\n",
       "      <td>0.894578</td>\n",
       "      <td>0.859205</td>\n",
       "    </tr>\n",
       "    <tr>\n",
       "      <th>2</th>\n",
       "      <td>PSR B1257+12 B</td>\n",
       "      <td>Wolszczan 1992</td>\n",
       "      <td>http://adsabs.harvard.edu//abs/1992Natur.355.....</td>\n",
       "      <td>1992</td>\n",
       "      <td>...</td>\n",
       "      <td>13:00:03.577</td>\n",
       "      <td>+12:40:56.4</td>\n",
       "      <td>NaN</td>\n",
       "      <td>NaN</td>\n",
       "    </tr>\n",
       "    <tr>\n",
       "      <th>3</th>\n",
       "      <td>PSR B1257+12 A</td>\n",
       "      <td>Wolszczan 1992</td>\n",
       "      <td>http://adsabs.harvard.edu//abs/1992Natur.355.....</td>\n",
       "      <td>1992</td>\n",
       "      <td>...</td>\n",
       "      <td>13:00:03.577</td>\n",
       "      <td>+12:40:56.4</td>\n",
       "      <td>NaN</td>\n",
       "      <td>NaN</td>\n",
       "    </tr>\n",
       "    <tr>\n",
       "      <th>...</th>\n",
       "      <td>...</td>\n",
       "      <td>...</td>\n",
       "      <td>...</td>\n",
       "      <td>...</td>\n",
       "      <td>...</td>\n",
       "      <td>...</td>\n",
       "      <td>...</td>\n",
       "      <td>...</td>\n",
       "      <td>...</td>\n",
       "    </tr>\n",
       "    <tr>\n",
       "      <th>1638</th>\n",
       "      <td>WASP-89 b</td>\n",
       "      <td>Hellier 2015</td>\n",
       "      <td>http://adsabs.harvard.edu/abs/2015AJ....150...18H</td>\n",
       "      <td>2015</td>\n",
       "      <td>...</td>\n",
       "      <td>20:55:35.98</td>\n",
       "      <td>-18:58:16.1</td>\n",
       "      <td>0.920000</td>\n",
       "      <td>0.880000</td>\n",
       "    </tr>\n",
       "    <tr>\n",
       "      <th>1639</th>\n",
       "      <td>HD 1666 b</td>\n",
       "      <td>Harakawa 2015</td>\n",
       "      <td>http://adsabs.harvard.edu/abs/2015ApJ...806....5H</td>\n",
       "      <td>2015</td>\n",
       "      <td>...</td>\n",
       "      <td>+00:20:52.34</td>\n",
       "      <td>-19:55:51.89</td>\n",
       "      <td>1.500000</td>\n",
       "      <td>1.930000</td>\n",
       "    </tr>\n",
       "    <tr>\n",
       "      <th>1640</th>\n",
       "      <td>HD 95127 b</td>\n",
       "      <td>Niedzielski 2015</td>\n",
       "      <td>http://adsabs.harvard.edu/abs/2015ApJ...803....1N</td>\n",
       "      <td>2015</td>\n",
       "      <td>...</td>\n",
       "      <td>+10:59:35.10</td>\n",
       "      <td>+43:48:52.17</td>\n",
       "      <td>1.200000</td>\n",
       "      <td>20.000000</td>\n",
       "    </tr>\n",
       "    <tr>\n",
       "      <th>1641</th>\n",
       "      <td>Kepler-432 c</td>\n",
       "      <td>Ciceri 2015</td>\n",
       "      <td>http://adsabs.harvard.edu/abs/2015A%26A...573L...</td>\n",
       "      <td>2015</td>\n",
       "      <td>...</td>\n",
       "      <td>19:33:07.729</td>\n",
       "      <td>+48:17:09.</td>\n",
       "      <td>1.320000</td>\n",
       "      <td>4.060000</td>\n",
       "    </tr>\n",
       "  </tbody>\n",
       "</table>\n",
       "<p>1642 rows × 17 columns</p>\n",
       "</div>"
      ],
      "text/plain": [
       "                NAME          FIRSTREF  \\\n",
       "0        gamma Cep b     Campbell 1988   \n",
       "1        HD 114762 b       Latham 1989   \n",
       "2     PSR B1257+12 B    Wolszczan 1992   \n",
       "3     PSR B1257+12 A    Wolszczan 1992   \n",
       "...              ...               ...   \n",
       "1638       WASP-89 b      Hellier 2015   \n",
       "1639       HD 1666 b     Harakawa 2015   \n",
       "1640      HD 95127 b  Niedzielski 2015   \n",
       "1641    Kepler-432 c       Ciceri 2015   \n",
       "\n",
       "                                               FIRSTURL  DATE  ...  \\\n",
       "0     http://adsabs.harvard.edu/abs/1988ApJ...331..902C  1988  ...   \n",
       "1     http://adsabs.harvard.edu/abs/1989Natur.339...38L  1989  ...   \n",
       "2     http://adsabs.harvard.edu//abs/1992Natur.355.....  1992  ...   \n",
       "3     http://adsabs.harvard.edu//abs/1992Natur.355.....  1992  ...   \n",
       "...                                                 ...   ...  ...   \n",
       "1638  http://adsabs.harvard.edu/abs/2015AJ....150...18H  2015  ...   \n",
       "1639  http://adsabs.harvard.edu/abs/2015ApJ...806....5H  2015  ...   \n",
       "1640  http://adsabs.harvard.edu/abs/2015ApJ...803....1N  2015  ...   \n",
       "1641  http://adsabs.harvard.edu/abs/2015A%26A...573L...  2015  ...   \n",
       "\n",
       "      RA_STRING(h:m:s)  DEC_STRING(d:m:s)  STAR_MASS(msun)  STAR_RADIUS(rsun)  \n",
       "0         +23:39:20.98       +77:37:55.08         1.260000           5.010000  \n",
       "1         +13:12:20.10       +17:31:01.66         0.894578           0.859205  \n",
       "2         13:00:03.577        +12:40:56.4              NaN                NaN  \n",
       "3         13:00:03.577        +12:40:56.4              NaN                NaN  \n",
       "...                ...                ...              ...                ...  \n",
       "1638       20:55:35.98        -18:58:16.1         0.920000           0.880000  \n",
       "1639      +00:20:52.34       -19:55:51.89         1.500000           1.930000  \n",
       "1640      +10:59:35.10       +43:48:52.17         1.200000          20.000000  \n",
       "1641      19:33:07.729         +48:17:09.         1.320000           4.060000  \n",
       "\n",
       "[1642 rows x 17 columns]"
      ]
     },
     "execution_count": 20,
     "metadata": {},
     "output_type": "execute_result"
    }
   ],
   "source": [
    "# Creating a DataFrame from a rile read:\n",
    "\n",
    "df_file = pd.read_csv(\"strata_data-master/data/exoplanets.csv\")\n",
    "df_file"
   ]
  },
  {
   "cell_type": "code",
   "execution_count": 23,
   "metadata": {},
   "outputs": [
    {
     "data": {
      "text/html": [
       "<div>\n",
       "<style scoped>\n",
       "    .dataframe tbody tr th:only-of-type {\n",
       "        vertical-align: middle;\n",
       "    }\n",
       "\n",
       "    .dataframe tbody tr th {\n",
       "        vertical-align: top;\n",
       "    }\n",
       "\n",
       "    .dataframe thead th {\n",
       "        text-align: right;\n",
       "    }\n",
       "</style>\n",
       "<table border=\"1\" class=\"dataframe\">\n",
       "  <thead>\n",
       "    <tr style=\"text-align: right;\">\n",
       "      <th></th>\n",
       "      <th>a</th>\n",
       "      <th>b</th>\n",
       "      <th>c</th>\n",
       "    </tr>\n",
       "  </thead>\n",
       "  <tbody>\n",
       "    <tr>\n",
       "      <th>0</th>\n",
       "      <td>1</td>\n",
       "      <td>0.000000</td>\n",
       "      <td>0.0</td>\n",
       "    </tr>\n",
       "    <tr>\n",
       "      <th>1</th>\n",
       "      <td>2</td>\n",
       "      <td>0.349066</td>\n",
       "      <td>0.0</td>\n",
       "    </tr>\n",
       "    <tr>\n",
       "      <th>2</th>\n",
       "      <td>3</td>\n",
       "      <td>0.698132</td>\n",
       "      <td>0.0</td>\n",
       "    </tr>\n",
       "    <tr>\n",
       "      <th>3</th>\n",
       "      <td>4</td>\n",
       "      <td>1.047198</td>\n",
       "      <td>0.0</td>\n",
       "    </tr>\n",
       "    <tr>\n",
       "      <th>...</th>\n",
       "      <td>...</td>\n",
       "      <td>...</td>\n",
       "      <td>...</td>\n",
       "    </tr>\n",
       "    <tr>\n",
       "      <th>6</th>\n",
       "      <td>7</td>\n",
       "      <td>2.094395</td>\n",
       "      <td>0.0</td>\n",
       "    </tr>\n",
       "    <tr>\n",
       "      <th>7</th>\n",
       "      <td>8</td>\n",
       "      <td>2.443461</td>\n",
       "      <td>0.0</td>\n",
       "    </tr>\n",
       "    <tr>\n",
       "      <th>8</th>\n",
       "      <td>9</td>\n",
       "      <td>2.792527</td>\n",
       "      <td>0.0</td>\n",
       "    </tr>\n",
       "    <tr>\n",
       "      <th>9</th>\n",
       "      <td>10</td>\n",
       "      <td>3.141593</td>\n",
       "      <td>0.0</td>\n",
       "    </tr>\n",
       "  </tbody>\n",
       "</table>\n",
       "<p>10 rows × 3 columns</p>\n",
       "</div>"
      ],
      "text/plain": [
       "     a         b    c\n",
       "0    1  0.000000  0.0\n",
       "1    2  0.349066  0.0\n",
       "2    3  0.698132  0.0\n",
       "3    4  1.047198  0.0\n",
       "..  ..       ...  ...\n",
       "6    7  2.094395  0.0\n",
       "7    8  2.443461  0.0\n",
       "8    9  2.792527  0.0\n",
       "9   10  3.141593  0.0\n",
       "\n",
       "[10 rows x 3 columns]"
      ]
     },
     "execution_count": 23,
     "metadata": {},
     "output_type": "execute_result"
    }
   ],
   "source": [
    "# Creating a DataFrame from a dict\n",
    "\n",
    "dict = {'a': list(range(1, 11)), 'b': np.linspace(0, np.pi, 10), 'c': 0.0}\n",
    "df_dict = pd.DataFrame(dict)\n",
    "df_dict"
   ]
  },
  {
   "cell_type": "code",
   "execution_count": 24,
   "metadata": {},
   "outputs": [
    {
     "data": {
      "text/html": [
       "<div>\n",
       "<style scoped>\n",
       "    .dataframe tbody tr th:only-of-type {\n",
       "        vertical-align: middle;\n",
       "    }\n",
       "\n",
       "    .dataframe tbody tr th {\n",
       "        vertical-align: top;\n",
       "    }\n",
       "\n",
       "    .dataframe thead th {\n",
       "        text-align: right;\n",
       "    }\n",
       "</style>\n",
       "<table border=\"1\" class=\"dataframe\">\n",
       "  <thead>\n",
       "    <tr style=\"text-align: right;\">\n",
       "      <th></th>\n",
       "      <th>Alice</th>\n",
       "      <th>Bob</th>\n",
       "      <th>Chuck</th>\n",
       "    </tr>\n",
       "  </thead>\n",
       "  <tbody>\n",
       "    <tr>\n",
       "      <th>Jan</th>\n",
       "      <td>1</td>\n",
       "      <td>0.447658</td>\n",
       "      <td>0.659729</td>\n",
       "    </tr>\n",
       "    <tr>\n",
       "      <th>Feb</th>\n",
       "      <td>2</td>\n",
       "      <td>0.609750</td>\n",
       "      <td>0.167520</td>\n",
       "    </tr>\n",
       "    <tr>\n",
       "      <th>Mar</th>\n",
       "      <td>3</td>\n",
       "      <td>0.769481</td>\n",
       "      <td>0.784822</td>\n",
       "    </tr>\n",
       "    <tr>\n",
       "      <th>Apr</th>\n",
       "      <td>4</td>\n",
       "      <td>0.434920</td>\n",
       "      <td>0.871278</td>\n",
       "    </tr>\n",
       "    <tr>\n",
       "      <th>May</th>\n",
       "      <td>5</td>\n",
       "      <td>0.358700</td>\n",
       "      <td>0.390696</td>\n",
       "    </tr>\n",
       "  </tbody>\n",
       "</table>\n",
       "</div>"
      ],
      "text/plain": [
       "     Alice       Bob     Chuck\n",
       "Jan      1  0.447658  0.659729\n",
       "Feb      2  0.609750  0.167520\n",
       "Mar      3  0.769481  0.784822\n",
       "Apr      4  0.434920  0.871278\n",
       "May      5  0.358700  0.390696"
      ]
     },
     "execution_count": 24,
     "metadata": {},
     "output_type": "execute_result"
    }
   ],
   "source": [
    "df_grades = pd.DataFrame({'Alice': [1,2,3,4,5], \n",
    "                          'Bob': np.random.random(5), \n",
    "                          'Chuck': np.random.random(5)}, index = ['Jan', 'Feb', 'Mar', 'Apr', 'May'])\n",
    "df_grades"
   ]
  },
  {
   "cell_type": "code",
   "execution_count": 27,
   "metadata": {},
   "outputs": [
    {
     "name": "stdout",
     "output_type": "stream",
     "text": [
      "2\n"
     ]
    },
    {
     "data": {
      "text/plain": [
       "1"
      ]
     },
     "execution_count": 27,
     "metadata": {},
     "output_type": "execute_result"
    }
   ],
   "source": [
    "# Indexing is by column first(gives a series)\n",
    "series_a = df_grades['Alice']\n",
    "# Indexing the column name, gives a Series, then 'positional' indexing\n",
    "print(df_grades['Alice'].iloc[1])\n",
    "# Or label' indexing\n",
    "df_grades.loc['Jan', 'Alice']"
   ]
  },
  {
   "cell_type": "code",
   "execution_count": 28,
   "metadata": {},
   "outputs": [
    {
     "name": "stdout",
     "output_type": "stream",
     "text": [
      "Key: Jan , Value: 1\n",
      "Key: Feb , Value: 2\n",
      "Key: Mar , Value: 3\n",
      "Key: Apr , Value: 4\n",
      "Key: May , Value: 5\n"
     ]
    }
   ],
   "source": [
    "# Iterating over a DataFrame:\n",
    "for key, value in df_grades['Alice'].iteritems():\n",
    "    print('Key:', '%s' % key, ', Value:', '%s' % value)\n"
   ]
  },
  {
   "cell_type": "code",
   "execution_count": 29,
   "metadata": {},
   "outputs": [
    {
     "name": "stdout",
     "output_type": "stream",
     "text": [
      "Index: Jan  Row: 1.0\n",
      "Index: Feb  Row: 2.0\n",
      "Index: Mar  Row: 3.0\n",
      "Index: Apr  Row: 4.0\n",
      "Index: May  Row: 5.0\n"
     ]
    }
   ],
   "source": [
    "for index, row in df_grades.iterrows():\n",
    "    print('Index:', '%s' % index, ' Row:', '%s' % row['Alice'])"
   ]
  },
  {
   "cell_type": "code",
   "execution_count": 30,
   "metadata": {},
   "outputs": [
    {
     "data": {
      "text/html": [
       "<div>\n",
       "<style scoped>\n",
       "    .dataframe tbody tr th:only-of-type {\n",
       "        vertical-align: middle;\n",
       "    }\n",
       "\n",
       "    .dataframe tbody tr th {\n",
       "        vertical-align: top;\n",
       "    }\n",
       "\n",
       "    .dataframe thead th {\n",
       "        text-align: right;\n",
       "    }\n",
       "</style>\n",
       "<table border=\"1\" class=\"dataframe\">\n",
       "  <thead>\n",
       "    <tr style=\"text-align: right;\">\n",
       "      <th></th>\n",
       "      <th>Alice</th>\n",
       "    </tr>\n",
       "  </thead>\n",
       "  <tbody>\n",
       "    <tr>\n",
       "      <th>Jan</th>\n",
       "      <td>1</td>\n",
       "    </tr>\n",
       "    <tr>\n",
       "      <th>Feb</th>\n",
       "      <td>2</td>\n",
       "    </tr>\n",
       "    <tr>\n",
       "      <th>Mar</th>\n",
       "      <td>3</td>\n",
       "    </tr>\n",
       "    <tr>\n",
       "      <th>Apr</th>\n",
       "      <td>4</td>\n",
       "    </tr>\n",
       "    <tr>\n",
       "      <th>May</th>\n",
       "      <td>5</td>\n",
       "    </tr>\n",
       "  </tbody>\n",
       "</table>\n",
       "</div>"
      ],
      "text/plain": [
       "     Alice\n",
       "Jan      1\n",
       "Feb      2\n",
       "Mar      3\n",
       "Apr      4\n",
       "May      5"
      ]
     },
     "execution_count": 30,
     "metadata": {},
     "output_type": "execute_result"
    }
   ],
   "source": [
    "df_grades[['Alice']] # returns a DataFrame instead of Series"
   ]
  },
  {
   "cell_type": "code",
   "execution_count": 33,
   "metadata": {},
   "outputs": [
    {
     "name": "stdout",
     "output_type": "stream",
     "text": [
      "     Alice       Bob     Chuck\n",
      "Jan      1  0.447658  0.659729 \n",
      " <class 'pandas.core.frame.DataFrame'>\n"
     ]
    }
   ],
   "source": [
    "df_col = df_grades[['Alice']]\n",
    "df_row = df_grades.loc['Jan':'Jan']\n",
    "print(df_row, '\\n', type(df_row))"
   ]
  },
  {
   "cell_type": "code",
   "execution_count": 35,
   "metadata": {},
   "outputs": [],
   "source": [
    "# pd.Series(df_row) doesn't work\n",
    "# pd.Series? # pop-open info\n",
    "pd.Series(df_row.loc['Jan'])"
   ]
  },
  {
   "cell_type": "code",
   "execution_count": 36,
   "metadata": {},
   "outputs": [],
   "source": [
    "# Can slice along rows just as. you can with columns\n",
    "# Matrix operations should use numpy"
   ]
  },
  {
   "cell_type": "code",
   "execution_count": 41,
   "metadata": {},
   "outputs": [],
   "source": [
    "# Create a temporary directory\n",
    "import os\n",
    "if (not os.path.exists('tmp')):\n",
    "    os.mkdir('tmp')\n",
    "    \n",
    "# Define a convenience func to help us clean up\n",
    "def clean_tmp(file_name='tmp/exoplanet.csv'):\n",
    "    if (os.path.isfile(file_name)):\n",
    "        os.remove(file_name)"
   ]
  },
  {
   "cell_type": "code",
   "execution_count": 44,
   "metadata": {},
   "outputs": [
    {
     "data": {
      "text/html": [
       "<div>\n",
       "<style scoped>\n",
       "    .dataframe tbody tr th:only-of-type {\n",
       "        vertical-align: middle;\n",
       "    }\n",
       "\n",
       "    .dataframe tbody tr th {\n",
       "        vertical-align: top;\n",
       "    }\n",
       "\n",
       "    .dataframe thead th {\n",
       "        text-align: right;\n",
       "    }\n",
       "</style>\n",
       "<table border=\"1\" class=\"dataframe\">\n",
       "  <thead>\n",
       "    <tr style=\"text-align: right;\">\n",
       "      <th></th>\n",
       "      <th>NAME</th>\n",
       "      <th>FIRSTREF</th>\n",
       "      <th>FIRSTURL</th>\n",
       "      <th>DATE</th>\n",
       "      <th>...</th>\n",
       "      <th>RA_STRING(h:m:s)</th>\n",
       "      <th>DEC_STRING(d:m:s)</th>\n",
       "      <th>STAR_MASS(msun)</th>\n",
       "      <th>STAR_RADIUS(rsun)</th>\n",
       "    </tr>\n",
       "  </thead>\n",
       "  <tbody>\n",
       "    <tr>\n",
       "      <th>0</th>\n",
       "      <td>gamma Cep b</td>\n",
       "      <td>Campbell 1988</td>\n",
       "      <td>http://adsabs.harvard.edu/abs/1988ApJ...331..902C</td>\n",
       "      <td>1988</td>\n",
       "      <td>...</td>\n",
       "      <td>+23:39:20.98</td>\n",
       "      <td>+77:37:55.08</td>\n",
       "      <td>1.260000</td>\n",
       "      <td>5.010000</td>\n",
       "    </tr>\n",
       "    <tr>\n",
       "      <th>1</th>\n",
       "      <td>HD 114762 b</td>\n",
       "      <td>Latham 1989</td>\n",
       "      <td>http://adsabs.harvard.edu/abs/1989Natur.339...38L</td>\n",
       "      <td>1989</td>\n",
       "      <td>...</td>\n",
       "      <td>+13:12:20.10</td>\n",
       "      <td>+17:31:01.66</td>\n",
       "      <td>0.894578</td>\n",
       "      <td>0.859205</td>\n",
       "    </tr>\n",
       "    <tr>\n",
       "      <th>2</th>\n",
       "      <td>PSR B1257+12 B</td>\n",
       "      <td>Wolszczan 1992</td>\n",
       "      <td>http://adsabs.harvard.edu//abs/1992Natur.355.....</td>\n",
       "      <td>1992</td>\n",
       "      <td>...</td>\n",
       "      <td>13:00:03.577</td>\n",
       "      <td>+12:40:56.4</td>\n",
       "      <td>NaN</td>\n",
       "      <td>NaN</td>\n",
       "    </tr>\n",
       "    <tr>\n",
       "      <th>3</th>\n",
       "      <td>PSR B1257+12 A</td>\n",
       "      <td>Wolszczan 1992</td>\n",
       "      <td>http://adsabs.harvard.edu//abs/1992Natur.355.....</td>\n",
       "      <td>1992</td>\n",
       "      <td>...</td>\n",
       "      <td>13:00:03.577</td>\n",
       "      <td>+12:40:56.4</td>\n",
       "      <td>NaN</td>\n",
       "      <td>NaN</td>\n",
       "    </tr>\n",
       "    <tr>\n",
       "      <th>...</th>\n",
       "      <td>...</td>\n",
       "      <td>...</td>\n",
       "      <td>...</td>\n",
       "      <td>...</td>\n",
       "      <td>...</td>\n",
       "      <td>...</td>\n",
       "      <td>...</td>\n",
       "      <td>...</td>\n",
       "      <td>...</td>\n",
       "    </tr>\n",
       "    <tr>\n",
       "      <th>1638</th>\n",
       "      <td>WASP-89 b</td>\n",
       "      <td>Hellier 2015</td>\n",
       "      <td>http://adsabs.harvard.edu/abs/2015AJ....150...18H</td>\n",
       "      <td>2015</td>\n",
       "      <td>...</td>\n",
       "      <td>20:55:35.98</td>\n",
       "      <td>-18:58:16.1</td>\n",
       "      <td>0.920000</td>\n",
       "      <td>0.880000</td>\n",
       "    </tr>\n",
       "    <tr>\n",
       "      <th>1639</th>\n",
       "      <td>HD 1666 b</td>\n",
       "      <td>Harakawa 2015</td>\n",
       "      <td>http://adsabs.harvard.edu/abs/2015ApJ...806....5H</td>\n",
       "      <td>2015</td>\n",
       "      <td>...</td>\n",
       "      <td>+00:20:52.34</td>\n",
       "      <td>-19:55:51.89</td>\n",
       "      <td>1.500000</td>\n",
       "      <td>1.930000</td>\n",
       "    </tr>\n",
       "    <tr>\n",
       "      <th>1640</th>\n",
       "      <td>HD 95127 b</td>\n",
       "      <td>Niedzielski 2015</td>\n",
       "      <td>http://adsabs.harvard.edu/abs/2015ApJ...803....1N</td>\n",
       "      <td>2015</td>\n",
       "      <td>...</td>\n",
       "      <td>+10:59:35.10</td>\n",
       "      <td>+43:48:52.17</td>\n",
       "      <td>1.200000</td>\n",
       "      <td>20.000000</td>\n",
       "    </tr>\n",
       "    <tr>\n",
       "      <th>1641</th>\n",
       "      <td>Kepler-432 c</td>\n",
       "      <td>Ciceri 2015</td>\n",
       "      <td>http://adsabs.harvard.edu/abs/2015A%26A...573L...</td>\n",
       "      <td>2015</td>\n",
       "      <td>...</td>\n",
       "      <td>19:33:07.729</td>\n",
       "      <td>+48:17:09.</td>\n",
       "      <td>1.320000</td>\n",
       "      <td>4.060000</td>\n",
       "    </tr>\n",
       "  </tbody>\n",
       "</table>\n",
       "<p>1642 rows × 17 columns</p>\n",
       "</div>"
      ],
      "text/plain": [
       "                NAME          FIRSTREF  \\\n",
       "0        gamma Cep b     Campbell 1988   \n",
       "1        HD 114762 b       Latham 1989   \n",
       "2     PSR B1257+12 B    Wolszczan 1992   \n",
       "3     PSR B1257+12 A    Wolszczan 1992   \n",
       "...              ...               ...   \n",
       "1638       WASP-89 b      Hellier 2015   \n",
       "1639       HD 1666 b     Harakawa 2015   \n",
       "1640      HD 95127 b  Niedzielski 2015   \n",
       "1641    Kepler-432 c       Ciceri 2015   \n",
       "\n",
       "                                               FIRSTURL  DATE  ...  \\\n",
       "0     http://adsabs.harvard.edu/abs/1988ApJ...331..902C  1988  ...   \n",
       "1     http://adsabs.harvard.edu/abs/1989Natur.339...38L  1989  ...   \n",
       "2     http://adsabs.harvard.edu//abs/1992Natur.355.....  1992  ...   \n",
       "3     http://adsabs.harvard.edu//abs/1992Natur.355.....  1992  ...   \n",
       "...                                                 ...   ...  ...   \n",
       "1638  http://adsabs.harvard.edu/abs/2015AJ....150...18H  2015  ...   \n",
       "1639  http://adsabs.harvard.edu/abs/2015ApJ...806....5H  2015  ...   \n",
       "1640  http://adsabs.harvard.edu/abs/2015ApJ...803....1N  2015  ...   \n",
       "1641  http://adsabs.harvard.edu/abs/2015A%26A...573L...  2015  ...   \n",
       "\n",
       "      RA_STRING(h:m:s)  DEC_STRING(d:m:s)  STAR_MASS(msun)  STAR_RADIUS(rsun)  \n",
       "0         +23:39:20.98       +77:37:55.08         1.260000           5.010000  \n",
       "1         +13:12:20.10       +17:31:01.66         0.894578           0.859205  \n",
       "2         13:00:03.577        +12:40:56.4              NaN                NaN  \n",
       "3         13:00:03.577        +12:40:56.4              NaN                NaN  \n",
       "...                ...                ...              ...                ...  \n",
       "1638       20:55:35.98        -18:58:16.1         0.920000           0.880000  \n",
       "1639      +00:20:52.34       -19:55:51.89         1.500000           1.930000  \n",
       "1640      +10:59:35.10       +43:48:52.17         1.200000          20.000000  \n",
       "1641      19:33:07.729         +48:17:09.         1.320000           4.060000  \n",
       "\n",
       "[1642 rows x 17 columns]"
      ]
     },
     "execution_count": 44,
     "metadata": {},
     "output_type": "execute_result"
    }
   ],
   "source": [
    "data"
   ]
  },
  {
   "cell_type": "code",
   "execution_count": 46,
   "metadata": {},
   "outputs": [
    {
     "data": {
      "text/html": [
       "<div>\n",
       "<style scoped>\n",
       "    .dataframe tbody tr th:only-of-type {\n",
       "        vertical-align: middle;\n",
       "    }\n",
       "\n",
       "    .dataframe tbody tr th {\n",
       "        vertical-align: top;\n",
       "    }\n",
       "\n",
       "    .dataframe thead th {\n",
       "        text-align: right;\n",
       "    }\n",
       "</style>\n",
       "<table border=\"1\" class=\"dataframe\">\n",
       "  <thead>\n",
       "    <tr style=\"text-align: right;\">\n",
       "      <th></th>\n",
       "      <th>NAME</th>\n",
       "      <th>FIRSTREF</th>\n",
       "      <th>FIRSTURL</th>\n",
       "      <th>NUM_OBS</th>\n",
       "      <th>...</th>\n",
       "      <th>RA_STRING(h:m:s)</th>\n",
       "      <th>DEC_STRING(d:m:s)</th>\n",
       "      <th>STAR_MASS(msun)</th>\n",
       "      <th>STAR_RADIUS(rsun)</th>\n",
       "    </tr>\n",
       "    <tr>\n",
       "      <th>DATE</th>\n",
       "      <th></th>\n",
       "      <th></th>\n",
       "      <th></th>\n",
       "      <th></th>\n",
       "      <th></th>\n",
       "      <th></th>\n",
       "      <th></th>\n",
       "      <th></th>\n",
       "      <th></th>\n",
       "    </tr>\n",
       "  </thead>\n",
       "  <tbody>\n",
       "    <tr>\n",
       "      <th>1988-01-01</th>\n",
       "      <td>gamma Cep b</td>\n",
       "      <td>Campbell 1988</td>\n",
       "      <td>http://adsabs.harvard.edu/abs/1988ApJ...331..902C</td>\n",
       "      <td>131.0</td>\n",
       "      <td>...</td>\n",
       "      <td>+23:39:20.98</td>\n",
       "      <td>+77:37:55.08</td>\n",
       "      <td>1.260000</td>\n",
       "      <td>5.010000</td>\n",
       "    </tr>\n",
       "    <tr>\n",
       "      <th>1989-01-01</th>\n",
       "      <td>HD 114762 b</td>\n",
       "      <td>Latham 1989</td>\n",
       "      <td>http://adsabs.harvard.edu/abs/1989Natur.339...38L</td>\n",
       "      <td>74.0</td>\n",
       "      <td>...</td>\n",
       "      <td>+13:12:20.10</td>\n",
       "      <td>+17:31:01.66</td>\n",
       "      <td>0.894578</td>\n",
       "      <td>0.859205</td>\n",
       "    </tr>\n",
       "    <tr>\n",
       "      <th>1992-01-01</th>\n",
       "      <td>PSR B1257+12 B</td>\n",
       "      <td>Wolszczan 1992</td>\n",
       "      <td>http://adsabs.harvard.edu//abs/1992Natur.355.....</td>\n",
       "      <td>NaN</td>\n",
       "      <td>...</td>\n",
       "      <td>13:00:03.577</td>\n",
       "      <td>+12:40:56.4</td>\n",
       "      <td>NaN</td>\n",
       "      <td>NaN</td>\n",
       "    </tr>\n",
       "    <tr>\n",
       "      <th>1992-01-01</th>\n",
       "      <td>PSR B1257+12 A</td>\n",
       "      <td>Wolszczan 1992</td>\n",
       "      <td>http://adsabs.harvard.edu//abs/1992Natur.355.....</td>\n",
       "      <td>NaN</td>\n",
       "      <td>...</td>\n",
       "      <td>13:00:03.577</td>\n",
       "      <td>+12:40:56.4</td>\n",
       "      <td>NaN</td>\n",
       "      <td>NaN</td>\n",
       "    </tr>\n",
       "    <tr>\n",
       "      <th>...</th>\n",
       "      <td>...</td>\n",
       "      <td>...</td>\n",
       "      <td>...</td>\n",
       "      <td>...</td>\n",
       "      <td>...</td>\n",
       "      <td>...</td>\n",
       "      <td>...</td>\n",
       "      <td>...</td>\n",
       "      <td>...</td>\n",
       "    </tr>\n",
       "    <tr>\n",
       "      <th>1995-01-01</th>\n",
       "      <td>51 Peg b</td>\n",
       "      <td>Mayor 1995</td>\n",
       "      <td>http://adsabs.harvard.edu/abs/1995Natur.378..355M</td>\n",
       "      <td>256.0</td>\n",
       "      <td>...</td>\n",
       "      <td>+22:57:27.85</td>\n",
       "      <td>+20:46:07.26</td>\n",
       "      <td>1.054000</td>\n",
       "      <td>1.024510</td>\n",
       "    </tr>\n",
       "    <tr>\n",
       "      <th>1996-01-01</th>\n",
       "      <td>47 UMa b</td>\n",
       "      <td>Butler 1996</td>\n",
       "      <td>http://adsabs.harvard.edu/abs/1996ApJ...464L.153B</td>\n",
       "      <td>NaN</td>\n",
       "      <td>...</td>\n",
       "      <td>+10:59:28.22</td>\n",
       "      <td>+40:25:48.44</td>\n",
       "      <td>1.063000</td>\n",
       "      <td>1.118690</td>\n",
       "    </tr>\n",
       "    <tr>\n",
       "      <th>1996-01-01</th>\n",
       "      <td>70 Vir b</td>\n",
       "      <td>Marcy 1996</td>\n",
       "      <td>http://adsabs.harvard.edu/abs/1996ApJ...464L.147M</td>\n",
       "      <td>74.0</td>\n",
       "      <td>...</td>\n",
       "      <td>+13:28:25.95</td>\n",
       "      <td>+13:46:48.68</td>\n",
       "      <td>1.101000</td>\n",
       "      <td>1.597750</td>\n",
       "    </tr>\n",
       "    <tr>\n",
       "      <th>1997-01-01</th>\n",
       "      <td>16 Cyg B b</td>\n",
       "      <td>Cochran 1997</td>\n",
       "      <td>http://adsabs.harvard.edu/abs/1997ApJ...483..457C</td>\n",
       "      <td>95.0</td>\n",
       "      <td>...</td>\n",
       "      <td>+19:41:52.10</td>\n",
       "      <td>+50:31:04.51</td>\n",
       "      <td>0.956000</td>\n",
       "      <td>1.117600</td>\n",
       "    </tr>\n",
       "  </tbody>\n",
       "</table>\n",
       "<p>10 rows × 16 columns</p>\n",
       "</div>"
      ],
      "text/plain": [
       "                      NAME        FIRSTREF  \\\n",
       "DATE                                         \n",
       "1988-01-01     gamma Cep b   Campbell 1988   \n",
       "1989-01-01     HD 114762 b     Latham 1989   \n",
       "1992-01-01  PSR B1257+12 B  Wolszczan 1992   \n",
       "1992-01-01  PSR B1257+12 A  Wolszczan 1992   \n",
       "...                    ...             ...   \n",
       "1995-01-01        51 Peg b      Mayor 1995   \n",
       "1996-01-01        47 UMa b     Butler 1996   \n",
       "1996-01-01        70 Vir b      Marcy 1996   \n",
       "1997-01-01      16 Cyg B b    Cochran 1997   \n",
       "\n",
       "                                                     FIRSTURL  NUM_OBS  ...  \\\n",
       "DATE                                                                    ...   \n",
       "1988-01-01  http://adsabs.harvard.edu/abs/1988ApJ...331..902C    131.0  ...   \n",
       "1989-01-01  http://adsabs.harvard.edu/abs/1989Natur.339...38L     74.0  ...   \n",
       "1992-01-01  http://adsabs.harvard.edu//abs/1992Natur.355.....      NaN  ...   \n",
       "1992-01-01  http://adsabs.harvard.edu//abs/1992Natur.355.....      NaN  ...   \n",
       "...                                                       ...      ...  ...   \n",
       "1995-01-01  http://adsabs.harvard.edu/abs/1995Natur.378..355M    256.0  ...   \n",
       "1996-01-01  http://adsabs.harvard.edu/abs/1996ApJ...464L.153B      NaN  ...   \n",
       "1996-01-01  http://adsabs.harvard.edu/abs/1996ApJ...464L.147M     74.0  ...   \n",
       "1997-01-01  http://adsabs.harvard.edu/abs/1997ApJ...483..457C     95.0  ...   \n",
       "\n",
       "            RA_STRING(h:m:s)  DEC_STRING(d:m:s)  STAR_MASS(msun)  \\\n",
       "DATE                                                               \n",
       "1988-01-01      +23:39:20.98       +77:37:55.08         1.260000   \n",
       "1989-01-01      +13:12:20.10       +17:31:01.66         0.894578   \n",
       "1992-01-01      13:00:03.577        +12:40:56.4              NaN   \n",
       "1992-01-01      13:00:03.577        +12:40:56.4              NaN   \n",
       "...                      ...                ...              ...   \n",
       "1995-01-01      +22:57:27.85       +20:46:07.26         1.054000   \n",
       "1996-01-01      +10:59:28.22       +40:25:48.44         1.063000   \n",
       "1996-01-01      +13:28:25.95       +13:46:48.68         1.101000   \n",
       "1997-01-01      +19:41:52.10       +50:31:04.51         0.956000   \n",
       "\n",
       "            STAR_RADIUS(rsun)  \n",
       "DATE                           \n",
       "1988-01-01           5.010000  \n",
       "1989-01-01           0.859205  \n",
       "1992-01-01                NaN  \n",
       "1992-01-01                NaN  \n",
       "...                       ...  \n",
       "1995-01-01           1.024510  \n",
       "1996-01-01           1.118690  \n",
       "1996-01-01           1.597750  \n",
       "1997-01-01           1.117600  \n",
       "\n",
       "[10 rows x 16 columns]"
      ]
     },
     "execution_count": 46,
     "metadata": {},
     "output_type": "execute_result"
    }
   ],
   "source": [
    "data = pd.read_csv('strata_data-master/data/exoplanets.csv', parse_dates = True, index_col = 'DATE')\n",
    "data.head(10)"
   ]
  },
  {
   "cell_type": "code",
   "execution_count": 47,
   "metadata": {},
   "outputs": [
    {
     "data": {
      "text/plain": [
       "DatetimeIndex(['1988-01-01', '1989-01-01', '1992-01-01', '1992-01-01',\n",
       "               '1993-01-01', '1994-01-01', '1995-01-01', '1996-01-01',\n",
       "               '1996-01-01', '1997-01-01',\n",
       "               ...\n",
       "               '2015-01-01', '2015-01-01', '2015-01-01', '2015-01-01',\n",
       "               '2015-01-01', '2015-01-01', '2015-01-01', '2015-01-01',\n",
       "               '2015-01-01', '2015-01-01'],\n",
       "              dtype='datetime64[ns]', name='DATE', length=1642, freq=None)"
      ]
     },
     "execution_count": 47,
     "metadata": {},
     "output_type": "execute_result"
    }
   ],
   "source": [
    "data.index"
   ]
  },
  {
   "cell_type": "code",
   "execution_count": 48,
   "metadata": {},
   "outputs": [
    {
     "data": {
      "text/html": [
       "<div>\n",
       "<style scoped>\n",
       "    .dataframe tbody tr th:only-of-type {\n",
       "        vertical-align: middle;\n",
       "    }\n",
       "\n",
       "    .dataframe tbody tr th {\n",
       "        vertical-align: top;\n",
       "    }\n",
       "\n",
       "    .dataframe thead th {\n",
       "        text-align: right;\n",
       "    }\n",
       "</style>\n",
       "<table border=\"1\" class=\"dataframe\">\n",
       "  <thead>\n",
       "    <tr style=\"text-align: right;\">\n",
       "      <th></th>\n",
       "      <th>NAME</th>\n",
       "      <th>FIRSTREF</th>\n",
       "      <th>FIRSTURL</th>\n",
       "      <th>NUM_OBS</th>\n",
       "      <th>...</th>\n",
       "      <th>RA_STRING(h:m:s)</th>\n",
       "      <th>DEC_STRING(d:m:s)</th>\n",
       "      <th>STAR_MASS(msun)</th>\n",
       "      <th>STAR_RADIUS(rsun)</th>\n",
       "    </tr>\n",
       "    <tr>\n",
       "      <th>DATE</th>\n",
       "      <th></th>\n",
       "      <th></th>\n",
       "      <th></th>\n",
       "      <th></th>\n",
       "      <th></th>\n",
       "      <th></th>\n",
       "      <th></th>\n",
       "      <th></th>\n",
       "      <th></th>\n",
       "    </tr>\n",
       "  </thead>\n",
       "  <tbody>\n",
       "    <tr>\n",
       "      <th>2015-01-01</th>\n",
       "      <td>gamma Cep b</td>\n",
       "      <td>Campbell 1988</td>\n",
       "      <td>http://adsabs.harvard.edu/abs/1988ApJ...331..902C</td>\n",
       "      <td>131.0</td>\n",
       "      <td>...</td>\n",
       "      <td>+23:39:20.98</td>\n",
       "      <td>+77:37:55.08</td>\n",
       "      <td>1.260000</td>\n",
       "      <td>5.010000</td>\n",
       "    </tr>\n",
       "    <tr>\n",
       "      <th>2015-01-01</th>\n",
       "      <td>HD 114762 b</td>\n",
       "      <td>Latham 1989</td>\n",
       "      <td>http://adsabs.harvard.edu/abs/1989Natur.339...38L</td>\n",
       "      <td>74.0</td>\n",
       "      <td>...</td>\n",
       "      <td>+13:12:20.10</td>\n",
       "      <td>+17:31:01.66</td>\n",
       "      <td>0.894578</td>\n",
       "      <td>0.859205</td>\n",
       "    </tr>\n",
       "    <tr>\n",
       "      <th>2015-01-01</th>\n",
       "      <td>PSR B1257+12 B</td>\n",
       "      <td>Wolszczan 1992</td>\n",
       "      <td>http://adsabs.harvard.edu//abs/1992Natur.355.....</td>\n",
       "      <td>NaN</td>\n",
       "      <td>...</td>\n",
       "      <td>13:00:03.577</td>\n",
       "      <td>+12:40:56.4</td>\n",
       "      <td>NaN</td>\n",
       "      <td>NaN</td>\n",
       "    </tr>\n",
       "  </tbody>\n",
       "</table>\n",
       "<p>3 rows × 16 columns</p>\n",
       "</div>"
      ],
      "text/plain": [
       "                      NAME        FIRSTREF  \\\n",
       "DATE                                         \n",
       "2015-01-01     gamma Cep b   Campbell 1988   \n",
       "2015-01-01     HD 114762 b     Latham 1989   \n",
       "2015-01-01  PSR B1257+12 B  Wolszczan 1992   \n",
       "\n",
       "                                                     FIRSTURL  NUM_OBS  ...  \\\n",
       "DATE                                                                    ...   \n",
       "2015-01-01  http://adsabs.harvard.edu/abs/1988ApJ...331..902C    131.0  ...   \n",
       "2015-01-01  http://adsabs.harvard.edu/abs/1989Natur.339...38L     74.0  ...   \n",
       "2015-01-01  http://adsabs.harvard.edu//abs/1992Natur.355.....      NaN  ...   \n",
       "\n",
       "            RA_STRING(h:m:s)  DEC_STRING(d:m:s)  STAR_MASS(msun)  \\\n",
       "DATE                                                               \n",
       "2015-01-01      +23:39:20.98       +77:37:55.08         1.260000   \n",
       "2015-01-01      +13:12:20.10       +17:31:01.66         0.894578   \n",
       "2015-01-01      13:00:03.577        +12:40:56.4              NaN   \n",
       "\n",
       "            STAR_RADIUS(rsun)  \n",
       "DATE                           \n",
       "2015-01-01           5.010000  \n",
       "2015-01-01           0.859205  \n",
       "2015-01-01                NaN  \n",
       "\n",
       "[3 rows x 16 columns]"
      ]
     },
     "execution_count": 48,
     "metadata": {},
     "output_type": "execute_result"
    }
   ],
   "source": [
    "# You can sort by the Index\n",
    "data = data.set_index(data.index.sort_values(ascending = False))\n",
    "data.iloc[:3]"
   ]
  },
  {
   "cell_type": "code",
   "execution_count": 49,
   "metadata": {},
   "outputs": [
    {
     "data": {
      "text/plain": [
       "Index(['NAME', 'FIRSTREF', 'FIRSTURL', 'NUM_OBS', 'MASS(mjupiter)',\n",
       "       'RADIUS(rjupiter)', 'PERIOD(day)', 'ECCENTRICITY',\n",
       "       'SEMI_MAJOR_AXIS(AU)', 'SEPARATION(AU)', 'STAR_NAME', 'DIST(PARSEC)',\n",
       "       'RA_STRING(h:m:s)', 'DEC_STRING(d:m:s)', 'STAR_MASS(msun)',\n",
       "       'STAR_RADIUS(rsun)'],\n",
       "      dtype='object')"
      ]
     },
     "execution_count": 49,
     "metadata": {},
     "output_type": "execute_result"
    }
   ],
   "source": [
    "data.columns"
   ]
  },
  {
   "cell_type": "code",
   "execution_count": 51,
   "metadata": {},
   "outputs": [
    {
     "data": {
      "text/plain": [
       "DATE\n",
       "2015-01-01     NaN\n",
       "2015-01-01     NaN\n",
       "2015-01-01     NaN\n",
       "2015-01-01     NaN\n",
       "              ... \n",
       "1992-01-01    1.04\n",
       "1992-01-01     NaN\n",
       "1989-01-01     NaN\n",
       "1988-01-01     NaN\n",
       "Name: RADIUS(rjupiter), Length: 1642, dtype: float64"
      ]
     },
     "execution_count": 51,
     "metadata": {},
     "output_type": "execute_result"
    }
   ],
   "source": [
    "data['RADIUS(rjupiter)']"
   ]
  },
  {
   "cell_type": "code",
   "execution_count": 55,
   "metadata": {},
   "outputs": [
    {
     "data": {
      "text/html": [
       "<div>\n",
       "<style scoped>\n",
       "    .dataframe tbody tr th:only-of-type {\n",
       "        vertical-align: middle;\n",
       "    }\n",
       "\n",
       "    .dataframe tbody tr th {\n",
       "        vertical-align: top;\n",
       "    }\n",
       "\n",
       "    .dataframe thead th {\n",
       "        text-align: right;\n",
       "    }\n",
       "</style>\n",
       "<table border=\"1\" class=\"dataframe\">\n",
       "  <thead>\n",
       "    <tr style=\"text-align: right;\">\n",
       "      <th></th>\n",
       "      <th>PLANET</th>\n",
       "      <th>FIRSTREF</th>\n",
       "      <th>NUM_OBS</th>\n",
       "      <th>MASS(mjupiter)</th>\n",
       "      <th>...</th>\n",
       "      <th>RA_STRING(h:m:s)</th>\n",
       "      <th>DEC_STRING(d:m:s)</th>\n",
       "      <th>STAR_MASS(msun)</th>\n",
       "      <th>STAR_RADIUS(rsun)</th>\n",
       "    </tr>\n",
       "    <tr>\n",
       "      <th>DATE</th>\n",
       "      <th></th>\n",
       "      <th></th>\n",
       "      <th></th>\n",
       "      <th></th>\n",
       "      <th></th>\n",
       "      <th></th>\n",
       "      <th></th>\n",
       "      <th></th>\n",
       "      <th></th>\n",
       "    </tr>\n",
       "  </thead>\n",
       "  <tbody>\n",
       "    <tr>\n",
       "      <th>2015-01-01</th>\n",
       "      <td>gamma Cep b</td>\n",
       "      <td>Campbell 1988</td>\n",
       "      <td>131.0</td>\n",
       "      <td>1.517280</td>\n",
       "      <td>...</td>\n",
       "      <td>+23:39:20.98</td>\n",
       "      <td>+77:37:55.08</td>\n",
       "      <td>1.260000</td>\n",
       "      <td>5.010000</td>\n",
       "    </tr>\n",
       "    <tr>\n",
       "      <th>2015-01-01</th>\n",
       "      <td>HD 114762 b</td>\n",
       "      <td>Latham 1989</td>\n",
       "      <td>74.0</td>\n",
       "      <td>11.635100</td>\n",
       "      <td>...</td>\n",
       "      <td>+13:12:20.10</td>\n",
       "      <td>+17:31:01.66</td>\n",
       "      <td>0.894578</td>\n",
       "      <td>0.859205</td>\n",
       "    </tr>\n",
       "    <tr>\n",
       "      <th>2015-01-01</th>\n",
       "      <td>PSR B1257+12 B</td>\n",
       "      <td>Wolszczan 1992</td>\n",
       "      <td>NaN</td>\n",
       "      <td>0.013531</td>\n",
       "      <td>...</td>\n",
       "      <td>13:00:03.577</td>\n",
       "      <td>+12:40:56.4</td>\n",
       "      <td>NaN</td>\n",
       "      <td>NaN</td>\n",
       "    </tr>\n",
       "    <tr>\n",
       "      <th>2015-01-01</th>\n",
       "      <td>PSR B1257+12 A</td>\n",
       "      <td>Wolszczan 1992</td>\n",
       "      <td>NaN</td>\n",
       "      <td>0.000063</td>\n",
       "      <td>...</td>\n",
       "      <td>13:00:03.577</td>\n",
       "      <td>+12:40:56.4</td>\n",
       "      <td>NaN</td>\n",
       "      <td>NaN</td>\n",
       "    </tr>\n",
       "    <tr>\n",
       "      <th>2015-01-01</th>\n",
       "      <td>beta Gem b</td>\n",
       "      <td>Hatzes 1993</td>\n",
       "      <td>55.0</td>\n",
       "      <td>2.758220</td>\n",
       "      <td>...</td>\n",
       "      <td>+07:45:19.36</td>\n",
       "      <td>+28:01:34.72</td>\n",
       "      <td>2.080000</td>\n",
       "      <td>8.156090</td>\n",
       "    </tr>\n",
       "  </tbody>\n",
       "</table>\n",
       "<p>5 rows × 15 columns</p>\n",
       "</div>"
      ],
      "text/plain": [
       "                    PLANET        FIRSTREF  NUM_OBS  MASS(mjupiter)  ...  \\\n",
       "DATE                                                                 ...   \n",
       "2015-01-01     gamma Cep b   Campbell 1988    131.0        1.517280  ...   \n",
       "2015-01-01     HD 114762 b     Latham 1989     74.0       11.635100  ...   \n",
       "2015-01-01  PSR B1257+12 B  Wolszczan 1992      NaN        0.013531  ...   \n",
       "2015-01-01  PSR B1257+12 A  Wolszczan 1992      NaN        0.000063  ...   \n",
       "2015-01-01      beta Gem b     Hatzes 1993     55.0        2.758220  ...   \n",
       "\n",
       "            RA_STRING(h:m:s)  DEC_STRING(d:m:s)  STAR_MASS(msun)  \\\n",
       "DATE                                                               \n",
       "2015-01-01      +23:39:20.98       +77:37:55.08         1.260000   \n",
       "2015-01-01      +13:12:20.10       +17:31:01.66         0.894578   \n",
       "2015-01-01      13:00:03.577        +12:40:56.4              NaN   \n",
       "2015-01-01      13:00:03.577        +12:40:56.4              NaN   \n",
       "2015-01-01      +07:45:19.36       +28:01:34.72         2.080000   \n",
       "\n",
       "            STAR_RADIUS(rsun)  \n",
       "DATE                           \n",
       "2015-01-01           5.010000  \n",
       "2015-01-01           0.859205  \n",
       "2015-01-01                NaN  \n",
       "2015-01-01                NaN  \n",
       "2015-01-01           8.156090  \n",
       "\n",
       "[5 rows x 15 columns]"
      ]
     },
     "execution_count": 55,
     "metadata": {},
     "output_type": "execute_result"
    }
   ],
   "source": [
    "# Deleting Columns\n",
    "#del data['FIRSTURL']\n",
    "# Rename\n",
    "data = data.rename(columns={'NAME':'PLANET'})\n",
    "data.iloc[:5]"
   ]
  },
  {
   "cell_type": "code",
   "execution_count": 57,
   "metadata": {},
   "outputs": [
    {
     "name": "stdout",
     "output_type": "stream",
     "text": [
      "pd.read_clipboard\n",
      "pd.read_csv\n",
      "pd.read_excel\n",
      "pd.read_feather\n",
      "pd.read_fwf\n",
      "pd.read_gbq\n",
      "pd.read_hdf\n",
      "pd.read_html\n",
      "pd.read_json\n",
      "pd.read_orc\n",
      "pd.read_parquet\n",
      "pd.read_pickle\n",
      "pd.read_sas\n",
      "pd.read_spss\n",
      "pd.read_sql\n",
      "pd.read_sql_query\n",
      "pd.read_sql_table\n",
      "pd.read_stata\n",
      "pd.read_table\n",
      "\n"
     ]
    }
   ],
   "source": [
    " # File formats\n",
    "print(''.join(['pd.%s\\n' % reader for reader in dir(pd) if reader.startswith('read_')]))"
   ]
  },
  {
   "cell_type": "code",
   "execution_count": 60,
   "metadata": {},
   "outputs": [
    {
     "name": "stdout",
     "output_type": "stream",
     "text": [
      "pd.DataFrame.to_clipboard\n",
      "pd.DataFrame.to_csv\n",
      "pd.DataFrame.to_dict\n",
      "pd.DataFrame.to_excel\n",
      "pd.DataFrame.to_feather\n",
      "pd.DataFrame.to_gbq\n",
      "pd.DataFrame.to_hdf\n",
      "pd.DataFrame.to_html\n",
      "pd.DataFrame.to_json\n",
      "pd.DataFrame.to_latex\n",
      "pd.DataFrame.to_markdown\n",
      "pd.DataFrame.to_numpy\n",
      "pd.DataFrame.to_parquet\n",
      "pd.DataFrame.to_period\n",
      "pd.DataFrame.to_pickle\n",
      "pd.DataFrame.to_records\n",
      "pd.DataFrame.to_sql\n",
      "pd.DataFrame.to_stata\n",
      "pd.DataFrame.to_string\n",
      "pd.DataFrame.to_timestamp\n",
      "pd.DataFrame.to_xarray\n",
      "\n"
     ]
    }
   ],
   "source": [
    "# Data Frame casting\n",
    "print(''.join(['pd.DataFrame.%s\\n' % reader for reader in dir(pd.DataFrame) if reader.startswith('to_')]))"
   ]
  },
  {
   "cell_type": "code",
   "execution_count": null,
   "metadata": {},
   "outputs": [],
   "source": [
    "# Write to (xls, SQLite, json) file and read it back in"
   ]
  },
  {
   "cell_type": "code",
   "execution_count": 63,
   "metadata": {},
   "outputs": [
    {
     "data": {
      "text/html": [
       "<div>\n",
       "<style scoped>\n",
       "    .dataframe tbody tr th:only-of-type {\n",
       "        vertical-align: middle;\n",
       "    }\n",
       "\n",
       "    .dataframe tbody tr th {\n",
       "        vertical-align: top;\n",
       "    }\n",
       "\n",
       "    .dataframe thead th {\n",
       "        text-align: right;\n",
       "    }\n",
       "</style>\n",
       "<table border=\"1\" class=\"dataframe\">\n",
       "  <thead>\n",
       "    <tr style=\"text-align: right;\">\n",
       "      <th></th>\n",
       "      <th>abv</th>\n",
       "      <th>beer_id</th>\n",
       "      <th>brewer_id</th>\n",
       "      <th>beer_name</th>\n",
       "      <th>...</th>\n",
       "      <th>profile_name</th>\n",
       "      <th>review_taste</th>\n",
       "      <th>text</th>\n",
       "      <th>time</th>\n",
       "    </tr>\n",
       "  </thead>\n",
       "  <tbody>\n",
       "    <tr>\n",
       "      <th>0</th>\n",
       "      <td>7.0</td>\n",
       "      <td>2511</td>\n",
       "      <td>287</td>\n",
       "      <td>Bell's Cherry Stout</td>\n",
       "      <td>...</td>\n",
       "      <td>blaheath</td>\n",
       "      <td>4.5</td>\n",
       "      <td>Batch 8144\\tPitch black in color with a 1/2 f...</td>\n",
       "      <td>2009-10-05 21:31:48</td>\n",
       "    </tr>\n",
       "    <tr>\n",
       "      <th>1</th>\n",
       "      <td>5.7</td>\n",
       "      <td>19736</td>\n",
       "      <td>9790</td>\n",
       "      <td>Duck-Rabbit Porter</td>\n",
       "      <td>...</td>\n",
       "      <td>GJ40</td>\n",
       "      <td>4.0</td>\n",
       "      <td>Sampled from a 12oz bottle in a standard pint...</td>\n",
       "      <td>2009-10-05 21:32:09</td>\n",
       "    </tr>\n",
       "    <tr>\n",
       "      <th>2</th>\n",
       "      <td>4.8</td>\n",
       "      <td>11098</td>\n",
       "      <td>3182</td>\n",
       "      <td>Fürstenberg Premium Pilsener</td>\n",
       "      <td>...</td>\n",
       "      <td>biegaman</td>\n",
       "      <td>3.5</td>\n",
       "      <td>Haystack yellow with an energetic group of bu...</td>\n",
       "      <td>2009-10-05 21:32:13</td>\n",
       "    </tr>\n",
       "    <tr>\n",
       "      <th>3</th>\n",
       "      <td>9.5</td>\n",
       "      <td>28577</td>\n",
       "      <td>3818</td>\n",
       "      <td>Unearthly (Imperial India Pale Ale)</td>\n",
       "      <td>...</td>\n",
       "      <td>nick76</td>\n",
       "      <td>4.0</td>\n",
       "      <td>The aroma has pine, wood, citrus, caramel, an...</td>\n",
       "      <td>2009-10-05 21:32:37</td>\n",
       "    </tr>\n",
       "    <tr>\n",
       "      <th>4</th>\n",
       "      <td>5.8</td>\n",
       "      <td>398</td>\n",
       "      <td>119</td>\n",
       "      <td>Wolaver's Pale Ale</td>\n",
       "      <td>...</td>\n",
       "      <td>champ103</td>\n",
       "      <td>3.0</td>\n",
       "      <td>A: Pours a slightly hazy golden/orange color....</td>\n",
       "      <td>2009-10-05 21:33:14</td>\n",
       "    </tr>\n",
       "  </tbody>\n",
       "</table>\n",
       "<p>5 rows × 13 columns</p>\n",
       "</div>"
      ],
      "text/plain": [
       "   abv  beer_id  brewer_id                            beer_name  ...  \\\n",
       "0  7.0     2511        287                  Bell's Cherry Stout  ...   \n",
       "1  5.7    19736       9790                   Duck-Rabbit Porter  ...   \n",
       "2  4.8    11098       3182         Fürstenberg Premium Pilsener  ...   \n",
       "3  9.5    28577       3818  Unearthly (Imperial India Pale Ale)  ...   \n",
       "4  5.8      398        119                   Wolaver's Pale Ale  ...   \n",
       "\n",
       "  profile_name  review_taste  \\\n",
       "0     blaheath           4.5   \n",
       "1         GJ40           4.0   \n",
       "2     biegaman           3.5   \n",
       "3       nick76           4.0   \n",
       "4     champ103           3.0   \n",
       "\n",
       "                                                text                time  \n",
       "0   Batch 8144\\tPitch black in color with a 1/2 f... 2009-10-05 21:31:48  \n",
       "1   Sampled from a 12oz bottle in a standard pint... 2009-10-05 21:32:09  \n",
       "2   Haystack yellow with an energetic group of bu... 2009-10-05 21:32:13  \n",
       "3   The aroma has pine, wood, citrus, caramel, an... 2009-10-05 21:32:37  \n",
       "4   A: Pours a slightly hazy golden/orange color.... 2009-10-05 21:33:14  \n",
       "\n",
       "[5 rows x 13 columns]"
      ]
     },
     "execution_count": 63,
     "metadata": {},
     "output_type": "execute_result"
    }
   ],
   "source": [
    "df = pd.read_csv('strata_data-master/data/beer2.csv.gz', index_col = 0, parse_dates=['time'])\n",
    "df.head()"
   ]
  },
  {
   "cell_type": "code",
   "execution_count": 64,
   "metadata": {},
   "outputs": [
    {
     "name": "stdout",
     "output_type": "stream",
     "text": [
      "<class 'pandas.core.frame.DataFrame'>\n",
      "Int64Index: 50000 entries, 0 to 49999\n",
      "Data columns (total 13 columns):\n",
      " #   Column             Non-Null Count  Dtype         \n",
      "---  ------             --------------  -----         \n",
      " 0   abv                48389 non-null  float64       \n",
      " 1   beer_id            50000 non-null  int64         \n",
      " 2   brewer_id          50000 non-null  int64         \n",
      " 3   beer_name          50000 non-null  object        \n",
      " 4   beer_style         50000 non-null  object        \n",
      " 5   review_appearance  50000 non-null  float64       \n",
      " 6   review_aroma       50000 non-null  float64       \n",
      " 7   review_overall     50000 non-null  float64       \n",
      " 8   review_palate      50000 non-null  float64       \n",
      " 9   profile_name       50000 non-null  object        \n",
      " 10  review_taste       50000 non-null  float64       \n",
      " 11  text               49991 non-null  object        \n",
      " 12  time               50000 non-null  datetime64[ns]\n",
      "dtypes: datetime64[ns](1), float64(6), int64(2), object(4)\n",
      "memory usage: 5.3+ MB\n"
     ]
    }
   ],
   "source": [
    "df.info()"
   ]
  },
  {
   "cell_type": "code",
   "execution_count": 65,
   "metadata": {},
   "outputs": [
    {
     "data": {
      "text/html": [
       "<div>\n",
       "<style scoped>\n",
       "    .dataframe tbody tr th:only-of-type {\n",
       "        vertical-align: middle;\n",
       "    }\n",
       "\n",
       "    .dataframe tbody tr th {\n",
       "        vertical-align: top;\n",
       "    }\n",
       "\n",
       "    .dataframe thead th {\n",
       "        text-align: right;\n",
       "    }\n",
       "</style>\n",
       "<table border=\"1\" class=\"dataframe\">\n",
       "  <thead>\n",
       "    <tr style=\"text-align: right;\">\n",
       "      <th></th>\n",
       "      <th>abv</th>\n",
       "      <th>beer_id</th>\n",
       "      <th>brewer_id</th>\n",
       "      <th>review_appearance</th>\n",
       "      <th>review_aroma</th>\n",
       "      <th>review_overall</th>\n",
       "      <th>review_palate</th>\n",
       "      <th>review_taste</th>\n",
       "    </tr>\n",
       "  </thead>\n",
       "  <tbody>\n",
       "    <tr>\n",
       "      <th>count</th>\n",
       "      <td>48389.000000</td>\n",
       "      <td>50000.000000</td>\n",
       "      <td>50000.000000</td>\n",
       "      <td>50000.000000</td>\n",
       "      <td>50000.000000</td>\n",
       "      <td>50000.00000</td>\n",
       "      <td>50000.000000</td>\n",
       "      <td>50000.000000</td>\n",
       "    </tr>\n",
       "    <tr>\n",
       "      <th>mean</th>\n",
       "      <td>7.232406</td>\n",
       "      <td>25379.008540</td>\n",
       "      <td>3505.655420</td>\n",
       "      <td>3.874010</td>\n",
       "      <td>3.778880</td>\n",
       "      <td>3.84982</td>\n",
       "      <td>3.778840</td>\n",
       "      <td>3.832480</td>\n",
       "    </tr>\n",
       "    <tr>\n",
       "      <th>std</th>\n",
       "      <td>2.387132</td>\n",
       "      <td>20600.374872</td>\n",
       "      <td>5696.746136</td>\n",
       "      <td>0.596153</td>\n",
       "      <td>0.677396</td>\n",
       "      <td>0.70716</td>\n",
       "      <td>0.660929</td>\n",
       "      <td>0.711728</td>\n",
       "    </tr>\n",
       "    <tr>\n",
       "      <th>min</th>\n",
       "      <td>0.010000</td>\n",
       "      <td>5.000000</td>\n",
       "      <td>1.000000</td>\n",
       "      <td>1.000000</td>\n",
       "      <td>1.000000</td>\n",
       "      <td>1.00000</td>\n",
       "      <td>1.000000</td>\n",
       "      <td>1.000000</td>\n",
       "    </tr>\n",
       "    <tr>\n",
       "      <th>25%</th>\n",
       "      <td>5.400000</td>\n",
       "      <td>2652.000000</td>\n",
       "      <td>147.000000</td>\n",
       "      <td>3.500000</td>\n",
       "      <td>3.500000</td>\n",
       "      <td>3.50000</td>\n",
       "      <td>3.500000</td>\n",
       "      <td>3.500000</td>\n",
       "    </tr>\n",
       "    <tr>\n",
       "      <th>50%</th>\n",
       "      <td>6.700000</td>\n",
       "      <td>25880.000000</td>\n",
       "      <td>583.000000</td>\n",
       "      <td>4.000000</td>\n",
       "      <td>4.000000</td>\n",
       "      <td>4.00000</td>\n",
       "      <td>4.000000</td>\n",
       "      <td>4.000000</td>\n",
       "    </tr>\n",
       "    <tr>\n",
       "      <th>75%</th>\n",
       "      <td>8.600000</td>\n",
       "      <td>46302.000000</td>\n",
       "      <td>3694.000000</td>\n",
       "      <td>4.000000</td>\n",
       "      <td>4.000000</td>\n",
       "      <td>4.50000</td>\n",
       "      <td>4.000000</td>\n",
       "      <td>4.500000</td>\n",
       "    </tr>\n",
       "    <tr>\n",
       "      <th>max</th>\n",
       "      <td>27.000000</td>\n",
       "      <td>68386.000000</td>\n",
       "      <td>27039.000000</td>\n",
       "      <td>5.000000</td>\n",
       "      <td>5.000000</td>\n",
       "      <td>5.00000</td>\n",
       "      <td>5.000000</td>\n",
       "      <td>5.000000</td>\n",
       "    </tr>\n",
       "  </tbody>\n",
       "</table>\n",
       "</div>"
      ],
      "text/plain": [
       "                abv       beer_id     brewer_id  review_appearance  \\\n",
       "count  48389.000000  50000.000000  50000.000000       50000.000000   \n",
       "mean       7.232406  25379.008540   3505.655420           3.874010   \n",
       "std        2.387132  20600.374872   5696.746136           0.596153   \n",
       "min        0.010000      5.000000      1.000000           1.000000   \n",
       "25%        5.400000   2652.000000    147.000000           3.500000   \n",
       "50%        6.700000  25880.000000    583.000000           4.000000   \n",
       "75%        8.600000  46302.000000   3694.000000           4.000000   \n",
       "max       27.000000  68386.000000  27039.000000           5.000000   \n",
       "\n",
       "       review_aroma  review_overall  review_palate  review_taste  \n",
       "count  50000.000000     50000.00000   50000.000000  50000.000000  \n",
       "mean       3.778880         3.84982       3.778840      3.832480  \n",
       "std        0.677396         0.70716       0.660929      0.711728  \n",
       "min        1.000000         1.00000       1.000000      1.000000  \n",
       "25%        3.500000         3.50000       3.500000      3.500000  \n",
       "50%        4.000000         4.00000       4.000000      4.000000  \n",
       "75%        4.000000         4.50000       4.000000      4.500000  \n",
       "max        5.000000         5.00000       5.000000      5.000000  "
      ]
     },
     "execution_count": 65,
     "metadata": {},
     "output_type": "execute_result"
    }
   ],
   "source": [
    "df.describe()"
   ]
  },
  {
   "cell_type": "code",
   "execution_count": 66,
   "metadata": {},
   "outputs": [
    {
     "data": {
      "text/plain": [
       "0                          American Stout\n",
       "1                         American Porter\n",
       "2                         German Pilsener\n",
       "3          American Double / Imperial IPA\n",
       "                       ...               \n",
       "49996      American Double / Imperial IPA\n",
       "49997    American Double / Imperial Stout\n",
       "49998                    English Pale Ale\n",
       "49999              Russian Imperial Stout\n",
       "Name: beer_style, Length: 50000, dtype: object"
      ]
     },
     "execution_count": 66,
     "metadata": {},
     "output_type": "execute_result"
    }
   ],
   "source": [
    "# attribute style (only for getting, not setting) column access:\n",
    "df.beer_style"
   ]
  },
  {
   "cell_type": "code",
   "execution_count": 67,
   "metadata": {},
   "outputs": [
    {
     "data": {
      "text/plain": [
       "0        Amer\n",
       "1        Amer\n",
       "2        Germ\n",
       "3        Amer\n",
       "         ... \n",
       "49996    Amer\n",
       "49997    Amer\n",
       "49998    Engl\n",
       "49999    Russ\n",
       "Name: beer_style, Length: 50000, dtype: object"
      ]
     },
     "execution_count": 67,
     "metadata": {},
     "output_type": "execute_result"
    }
   ],
   "source": [
    "# String Operations\n",
    "df.beer_style.str[0:4]"
   ]
  },
  {
   "cell_type": "code",
   "execution_count": 69,
   "metadata": {},
   "outputs": [
    {
     "data": {
      "text/plain": [
       "0         True\n",
       "1         True\n",
       "2        False\n",
       "3         True\n",
       "         ...  \n",
       "49996     True\n",
       "49997     True\n",
       "49998    False\n",
       "49999    False\n",
       "Name: beer_style, Length: 50000, dtype: bool"
      ]
     },
     "execution_count": 69,
     "metadata": {},
     "output_type": "execute_result"
    }
   ],
   "source": [
    "df.beer_style.str.contains('[A|a]merican')"
   ]
  },
  {
   "cell_type": "code",
   "execution_count": 70,
   "metadata": {},
   "outputs": [
    {
     "data": {
      "text/plain": [
       "0                          American Stout\n",
       "1                         American Porter\n",
       "3          American Double / Imperial IPA\n",
       "4                 American Pale Ale (APA)\n",
       "                       ...               \n",
       "49990    American Double / Imperial Stout\n",
       "49991                  American Brown Ale\n",
       "49996      American Double / Imperial IPA\n",
       "49997    American Double / Imperial Stout\n",
       "Name: beer_style, Length: 21380, dtype: object"
      ]
     },
     "execution_count": 70,
     "metadata": {},
     "output_type": "execute_result"
    }
   ],
   "source": [
    "# Extract rows that map to true\n",
    "boolean_mask = df.beer_style.str.contains('[A|a]merican')\n",
    "df.beer_style[boolean_mask]"
   ]
  },
  {
   "cell_type": "code",
   "execution_count": 71,
   "metadata": {},
   "outputs": [
    {
     "data": {
      "text/plain": [
       "0       2009-10-05 21:31:48\n",
       "1       2009-10-05 21:32:09\n",
       "2       2009-10-05 21:32:13\n",
       "3       2009-10-05 21:32:37\n",
       "                ...        \n",
       "49996   2009-12-25 17:23:24\n",
       "49997   2009-12-25 17:23:52\n",
       "49998   2009-12-25 17:25:06\n",
       "49999   2009-12-25 17:26:06\n",
       "Name: time, Length: 50000, dtype: datetime64[ns]"
      ]
     },
     "execution_count": 71,
     "metadata": {},
     "output_type": "execute_result"
    }
   ],
   "source": [
    "df.time"
   ]
  },
  {
   "cell_type": "code",
   "execution_count": 72,
   "metadata": {},
   "outputs": [
    {
     "data": {
      "text/plain": [
       "0        2009-10-05\n",
       "1        2009-10-05\n",
       "2        2009-10-05\n",
       "3        2009-10-05\n",
       "            ...    \n",
       "49996    2009-12-25\n",
       "49997    2009-12-25\n",
       "49998    2009-12-25\n",
       "49999    2009-12-25\n",
       "Name: time, Length: 50000, dtype: object"
      ]
     },
     "execution_count": 72,
     "metadata": {},
     "output_type": "execute_result"
    }
   ],
   "source": [
    "df.time.dt.date\n",
    "# df.time.dt.time, hour, etc."
   ]
  },
  {
   "cell_type": "code",
   "execution_count": 73,
   "metadata": {},
   "outputs": [
    {
     "ename": "AttributeError",
     "evalue": "'DataFrame' object has no attribute 'ix'",
     "output_type": "error",
     "traceback": [
      "\u001b[0;31m---------------------------------------------------------------------------\u001b[0m",
      "\u001b[0;31mAttributeError\u001b[0m                            Traceback (most recent call last)",
      "\u001b[0;32m<ipython-input-73-d2dc17d6e5a9>\u001b[0m in \u001b[0;36m<module>\u001b[0;34m\u001b[0m\n\u001b[0;32m----> 1\u001b[0;31m \u001b[0mdf\u001b[0m\u001b[0;34m.\u001b[0m\u001b[0mix\u001b[0m\u001b[0;34m[\u001b[0m\u001b[0;34m:\u001b[0m\u001b[0;36m2\u001b[0m\u001b[0;34m,\u001b[0m \u001b[0;34m'beer_name'\u001b[0m\u001b[0;34m]\u001b[0m \u001b[0;31m# integer and label-based indexing\u001b[0m\u001b[0;34m\u001b[0m\u001b[0;34m\u001b[0m\u001b[0m\n\u001b[0m",
      "\u001b[0;32m/opt/anaconda3/lib/python3.7/site-packages/pandas/core/generic.py\u001b[0m in \u001b[0;36m__getattr__\u001b[0;34m(self, name)\u001b[0m\n\u001b[1;32m   5272\u001b[0m             \u001b[0;32mif\u001b[0m \u001b[0mself\u001b[0m\u001b[0;34m.\u001b[0m\u001b[0m_info_axis\u001b[0m\u001b[0;34m.\u001b[0m\u001b[0m_can_hold_identifiers_and_holds_name\u001b[0m\u001b[0;34m(\u001b[0m\u001b[0mname\u001b[0m\u001b[0;34m)\u001b[0m\u001b[0;34m:\u001b[0m\u001b[0;34m\u001b[0m\u001b[0;34m\u001b[0m\u001b[0m\n\u001b[1;32m   5273\u001b[0m                 \u001b[0;32mreturn\u001b[0m \u001b[0mself\u001b[0m\u001b[0;34m[\u001b[0m\u001b[0mname\u001b[0m\u001b[0;34m]\u001b[0m\u001b[0;34m\u001b[0m\u001b[0;34m\u001b[0m\u001b[0m\n\u001b[0;32m-> 5274\u001b[0;31m             \u001b[0;32mreturn\u001b[0m \u001b[0mobject\u001b[0m\u001b[0;34m.\u001b[0m\u001b[0m__getattribute__\u001b[0m\u001b[0;34m(\u001b[0m\u001b[0mself\u001b[0m\u001b[0;34m,\u001b[0m \u001b[0mname\u001b[0m\u001b[0;34m)\u001b[0m\u001b[0;34m\u001b[0m\u001b[0;34m\u001b[0m\u001b[0m\n\u001b[0m\u001b[1;32m   5275\u001b[0m \u001b[0;34m\u001b[0m\u001b[0m\n\u001b[1;32m   5276\u001b[0m     \u001b[0;32mdef\u001b[0m \u001b[0m__setattr__\u001b[0m\u001b[0;34m(\u001b[0m\u001b[0mself\u001b[0m\u001b[0;34m,\u001b[0m \u001b[0mname\u001b[0m\u001b[0;34m:\u001b[0m \u001b[0mstr\u001b[0m\u001b[0;34m,\u001b[0m \u001b[0mvalue\u001b[0m\u001b[0;34m)\u001b[0m \u001b[0;34m->\u001b[0m \u001b[0;32mNone\u001b[0m\u001b[0;34m:\u001b[0m\u001b[0;34m\u001b[0m\u001b[0;34m\u001b[0m\u001b[0m\n",
      "\u001b[0;31mAttributeError\u001b[0m: 'DataFrame' object has no attribute 'ix'"
     ]
    }
   ],
   "source": [
    "df.ix[:2, 'beer_name'] # integer and label-based indexing\n",
    "# not working for me"
   ]
  },
  {
   "cell_type": "code",
   "execution_count": 74,
   "metadata": {},
   "outputs": [
    {
     "data": {
      "text/html": [
       "<div>\n",
       "<style scoped>\n",
       "    .dataframe tbody tr th:only-of-type {\n",
       "        vertical-align: middle;\n",
       "    }\n",
       "\n",
       "    .dataframe tbody tr th {\n",
       "        vertical-align: top;\n",
       "    }\n",
       "\n",
       "    .dataframe thead th {\n",
       "        text-align: right;\n",
       "    }\n",
       "</style>\n",
       "<table border=\"1\" class=\"dataframe\">\n",
       "  <thead>\n",
       "    <tr style=\"text-align: right;\">\n",
       "      <th></th>\n",
       "      <th></th>\n",
       "      <th></th>\n",
       "      <th>abv</th>\n",
       "      <th>brewer_id</th>\n",
       "      <th>beer_name</th>\n",
       "      <th>beer_style</th>\n",
       "      <th>...</th>\n",
       "      <th>review_overall</th>\n",
       "      <th>review_palate</th>\n",
       "      <th>review_taste</th>\n",
       "      <th>text</th>\n",
       "    </tr>\n",
       "    <tr>\n",
       "      <th>profile_name</th>\n",
       "      <th>beer_id</th>\n",
       "      <th>time</th>\n",
       "      <th></th>\n",
       "      <th></th>\n",
       "      <th></th>\n",
       "      <th></th>\n",
       "      <th></th>\n",
       "      <th></th>\n",
       "      <th></th>\n",
       "      <th></th>\n",
       "      <th></th>\n",
       "    </tr>\n",
       "  </thead>\n",
       "  <tbody>\n",
       "    <tr>\n",
       "      <th>01121987</th>\n",
       "      <th>29077</th>\n",
       "      <th>2009-11-30 03:44:42</th>\n",
       "      <td>9.0</td>\n",
       "      <td>11256</td>\n",
       "      <td>Corne De Brume</td>\n",
       "      <td>Scotch Ale / Wee Heavy</td>\n",
       "      <td>...</td>\n",
       "      <td>5.0</td>\n",
       "      <td>4.0</td>\n",
       "      <td>3.5</td>\n",
       "      <td>Poured into a belgian beer glass, not great h...</td>\n",
       "    </tr>\n",
       "    <tr>\n",
       "      <th rowspan=\"4\" valign=\"top\">05Harley</th>\n",
       "      <th>1307</th>\n",
       "      <th>2009-10-06 00:10:06</th>\n",
       "      <td>8.5</td>\n",
       "      <td>428</td>\n",
       "      <td>Der Weisse Bock</td>\n",
       "      <td>Weizenbock</td>\n",
       "      <td>...</td>\n",
       "      <td>4.0</td>\n",
       "      <td>4.0</td>\n",
       "      <td>4.0</td>\n",
       "      <td>Can't find the date on this one.\\t\\tPurchased...</td>\n",
       "    </tr>\n",
       "    <tr>\n",
       "      <th>2732</th>\n",
       "      <th>2009-12-12 01:21:36</th>\n",
       "      <td>8.0</td>\n",
       "      <td>287</td>\n",
       "      <td>Bell's Consecrator Doppelbock</td>\n",
       "      <td>Doppelbock</td>\n",
       "      <td>...</td>\n",
       "      <td>4.0</td>\n",
       "      <td>4.0</td>\n",
       "      <td>4.5</td>\n",
       "      <td>Bottle # 8881 (02/09)\\t\\tPurchased through We...</td>\n",
       "    </tr>\n",
       "    <tr>\n",
       "      <th>2899</th>\n",
       "      <th>2009-10-20 22:27:01</th>\n",
       "      <td>7.1</td>\n",
       "      <td>911</td>\n",
       "      <td>Andechser Doppelbock Dunkel</td>\n",
       "      <td>Doppelbock</td>\n",
       "      <td>...</td>\n",
       "      <td>5.0</td>\n",
       "      <td>4.0</td>\n",
       "      <td>5.0</td>\n",
       "      <td>Bottle # 300310\\t\\tPurchased through Kracked ...</td>\n",
       "    </tr>\n",
       "    <tr>\n",
       "      <th>3054</th>\n",
       "      <th>2009-11-21 02:17:41</th>\n",
       "      <td>5.0</td>\n",
       "      <td>946</td>\n",
       "      <td>Piton Lager Beer</td>\n",
       "      <td>American Adjunct Lager</td>\n",
       "      <td>...</td>\n",
       "      <td>3.0</td>\n",
       "      <td>2.0</td>\n",
       "      <td>3.0</td>\n",
       "      <td>Bottled in 2007.\\t\\tPurchased in St. Lucia @ ...</td>\n",
       "    </tr>\n",
       "  </tbody>\n",
       "</table>\n",
       "<p>5 rows × 10 columns</p>\n",
       "</div>"
      ],
      "text/plain": [
       "                                          abv  brewer_id  \\\n",
       "profile_name beer_id time                                  \n",
       "01121987     29077   2009-11-30 03:44:42  9.0      11256   \n",
       "05Harley     1307    2009-10-06 00:10:06  8.5        428   \n",
       "             2732    2009-12-12 01:21:36  8.0        287   \n",
       "             2899    2009-10-20 22:27:01  7.1        911   \n",
       "             3054    2009-11-21 02:17:41  5.0        946   \n",
       "\n",
       "                                                              beer_name  \\\n",
       "profile_name beer_id time                                                 \n",
       "01121987     29077   2009-11-30 03:44:42                 Corne De Brume   \n",
       "05Harley     1307    2009-10-06 00:10:06                Der Weisse Bock   \n",
       "             2732    2009-12-12 01:21:36  Bell's Consecrator Doppelbock   \n",
       "             2899    2009-10-20 22:27:01    Andechser Doppelbock Dunkel   \n",
       "             3054    2009-11-21 02:17:41               Piton Lager Beer   \n",
       "\n",
       "                                                      beer_style  ...  \\\n",
       "profile_name beer_id time                                         ...   \n",
       "01121987     29077   2009-11-30 03:44:42  Scotch Ale / Wee Heavy  ...   \n",
       "05Harley     1307    2009-10-06 00:10:06              Weizenbock  ...   \n",
       "             2732    2009-12-12 01:21:36              Doppelbock  ...   \n",
       "             2899    2009-10-20 22:27:01              Doppelbock  ...   \n",
       "             3054    2009-11-21 02:17:41  American Adjunct Lager  ...   \n",
       "\n",
       "                                          review_overall  review_palate  \\\n",
       "profile_name beer_id time                                                 \n",
       "01121987     29077   2009-11-30 03:44:42             5.0            4.0   \n",
       "05Harley     1307    2009-10-06 00:10:06             4.0            4.0   \n",
       "             2732    2009-12-12 01:21:36             4.0            4.0   \n",
       "             2899    2009-10-20 22:27:01             5.0            4.0   \n",
       "             3054    2009-11-21 02:17:41             3.0            2.0   \n",
       "\n",
       "                                          review_taste  \\\n",
       "profile_name beer_id time                                \n",
       "01121987     29077   2009-11-30 03:44:42           3.5   \n",
       "05Harley     1307    2009-10-06 00:10:06           4.0   \n",
       "             2732    2009-12-12 01:21:36           4.5   \n",
       "             2899    2009-10-20 22:27:01           5.0   \n",
       "             3054    2009-11-21 02:17:41           3.0   \n",
       "\n",
       "                                                                                       text  \n",
       "profile_name beer_id time                                                                    \n",
       "01121987     29077   2009-11-30 03:44:42   Poured into a belgian beer glass, not great h...  \n",
       "05Harley     1307    2009-10-06 00:10:06   Can't find the date on this one.\\t\\tPurchased...  \n",
       "             2732    2009-12-12 01:21:36   Bottle # 8881 (02/09)\\t\\tPurchased through We...  \n",
       "             2899    2009-10-20 22:27:01   Bottle # 300310\\t\\tPurchased through Kracked ...  \n",
       "             3054    2009-11-21 02:17:41   Bottled in 2007.\\t\\tPurchased in St. Lucia @ ...  \n",
       "\n",
       "[5 rows x 10 columns]"
      ]
     },
     "execution_count": 74,
     "metadata": {},
     "output_type": "execute_result"
    }
   ],
   "source": [
    "# Combination of values provides a unique index\n",
    "reviews = df.set_index(['profile_name', 'beer_id', 'time']).sort_index()\n",
    "reviews.head(5)"
   ]
  },
  {
   "cell_type": "code",
   "execution_count": 75,
   "metadata": {},
   "outputs": [
    {
     "name": "stdout",
     "output_type": "stream",
     "text": [
      "<class 'pandas.core.frame.DataFrame'>\n",
      "Int64Index: 50000 entries, 0 to 49999\n",
      "Data columns (total 1 columns):\n",
      " #   Column      Non-Null Count  Dtype   \n",
      "---  ------      --------------  -----   \n",
      " 0   beer_style  50000 non-null  category\n",
      "dtypes: category(1)\n",
      "memory usage: 445.3 KB\n"
     ]
    }
   ],
   "source": [
    "# Convert to categorical column (save memory)\n",
    "df['beer_style'] = df['beer_style'].astype('category')\n",
    "df[['beer_style']].info()\n",
    "# For categorical columns, have .cat (analogous to .dt and .str)"
   ]
  },
  {
   "cell_type": "code",
   "execution_count": 76,
   "metadata": {},
   "outputs": [
    {
     "data": {
      "image/png": "[encoded data removed]",
      "text/plain": [
       "<IPython.core.display.Image object>"
      ]
     },
     "execution_count": 76,
     "metadata": {},
     "output_type": "execute_result"
    }
   ],
   "source": [
    "# Turning Tuesdays\n",
    "from IPython.display import Image\n",
    "Image(filename='strata_data-master/img/wsj_turnaround_tuesday.png')"
   ]
  },
  {
   "cell_type": "code",
   "execution_count": 77,
   "metadata": {},
   "outputs": [
    {
     "data": {
      "text/html": [
       "<div>\n",
       "<style scoped>\n",
       "    .dataframe tbody tr th:only-of-type {\n",
       "        vertical-align: middle;\n",
       "    }\n",
       "\n",
       "    .dataframe tbody tr th {\n",
       "        vertical-align: top;\n",
       "    }\n",
       "\n",
       "    .dataframe thead th {\n",
       "        text-align: right;\n",
       "    }\n",
       "</style>\n",
       "<table border=\"1\" class=\"dataframe\">\n",
       "  <thead>\n",
       "    <tr style=\"text-align: right;\">\n",
       "      <th></th>\n",
       "      <th>Open</th>\n",
       "      <th>High</th>\n",
       "      <th>Low</th>\n",
       "      <th>Close</th>\n",
       "      <th>Volume</th>\n",
       "      <th>Adj Close</th>\n",
       "    </tr>\n",
       "    <tr>\n",
       "      <th>Date</th>\n",
       "      <th></th>\n",
       "      <th></th>\n",
       "      <th></th>\n",
       "      <th></th>\n",
       "      <th></th>\n",
       "      <th></th>\n",
       "    </tr>\n",
       "  </thead>\n",
       "  <tbody>\n",
       "    <tr>\n",
       "      <th>2016-01-11</th>\n",
       "      <td>1926.119995</td>\n",
       "      <td>1935.650024</td>\n",
       "      <td>1901.099976</td>\n",
       "      <td>1923.670044</td>\n",
       "      <td>4607290000</td>\n",
       "      <td>1923.670044</td>\n",
       "    </tr>\n",
       "    <tr>\n",
       "      <th>2016-01-08</th>\n",
       "      <td>1985.319946</td>\n",
       "      <td>1985.319946</td>\n",
       "      <td>1918.459961</td>\n",
       "      <td>1922.030029</td>\n",
       "      <td>4664940000</td>\n",
       "      <td>1922.030029</td>\n",
       "    </tr>\n",
       "    <tr>\n",
       "      <th>2016-01-07</th>\n",
       "      <td>1985.319946</td>\n",
       "      <td>1985.319946</td>\n",
       "      <td>1938.829956</td>\n",
       "      <td>1943.089966</td>\n",
       "      <td>5076590000</td>\n",
       "      <td>1943.089966</td>\n",
       "    </tr>\n",
       "    <tr>\n",
       "      <th>2016-01-06</th>\n",
       "      <td>2011.709961</td>\n",
       "      <td>2011.709961</td>\n",
       "      <td>1979.050049</td>\n",
       "      <td>1990.260010</td>\n",
       "      <td>4336660000</td>\n",
       "      <td>1990.260010</td>\n",
       "    </tr>\n",
       "    <tr>\n",
       "      <th>2016-01-05</th>\n",
       "      <td>2013.780029</td>\n",
       "      <td>2021.939941</td>\n",
       "      <td>2004.170044</td>\n",
       "      <td>2016.709961</td>\n",
       "      <td>3706620000</td>\n",
       "      <td>2016.709961</td>\n",
       "    </tr>\n",
       "  </tbody>\n",
       "</table>\n",
       "</div>"
      ],
      "text/plain": [
       "                   Open         High          Low        Close      Volume  \\\n",
       "Date                                                                         \n",
       "2016-01-11  1926.119995  1935.650024  1901.099976  1923.670044  4607290000   \n",
       "2016-01-08  1985.319946  1985.319946  1918.459961  1922.030029  4664940000   \n",
       "2016-01-07  1985.319946  1985.319946  1938.829956  1943.089966  5076590000   \n",
       "2016-01-06  2011.709961  2011.709961  1979.050049  1990.260010  4336660000   \n",
       "2016-01-05  2013.780029  2021.939941  2004.170044  2016.709961  3706620000   \n",
       "\n",
       "              Adj Close  \n",
       "Date                     \n",
       "2016-01-11  1923.670044  \n",
       "2016-01-08  1922.030029  \n",
       "2016-01-07  1943.089966  \n",
       "2016-01-06  1990.260010  \n",
       "2016-01-05  2016.709961  "
      ]
     },
     "execution_count": 77,
     "metadata": {},
     "output_type": "execute_result"
    }
   ],
   "source": [
    "sp500 = pd.read_csv('strata_data-master/data/table.csv', index_col = 0, parse_dates = True)\n",
    "sp500.head()"
   ]
  },
  {
   "cell_type": "code",
   "execution_count": 79,
   "metadata": {},
   "outputs": [
    {
     "data": {
      "text/html": [
       "<div>\n",
       "<style scoped>\n",
       "    .dataframe tbody tr th:only-of-type {\n",
       "        vertical-align: middle;\n",
       "    }\n",
       "\n",
       "    .dataframe tbody tr th {\n",
       "        vertical-align: top;\n",
       "    }\n",
       "\n",
       "    .dataframe thead th {\n",
       "        text-align: right;\n",
       "    }\n",
       "</style>\n",
       "<table border=\"1\" class=\"dataframe\">\n",
       "  <thead>\n",
       "    <tr style=\"text-align: right;\">\n",
       "      <th></th>\n",
       "      <th>Adj Close</th>\n",
       "    </tr>\n",
       "    <tr>\n",
       "      <th>Date</th>\n",
       "      <th></th>\n",
       "    </tr>\n",
       "  </thead>\n",
       "  <tbody>\n",
       "    <tr>\n",
       "      <th>2016-01-11</th>\n",
       "      <td>1923.670044</td>\n",
       "    </tr>\n",
       "    <tr>\n",
       "      <th>2016-01-08</th>\n",
       "      <td>1922.030029</td>\n",
       "    </tr>\n",
       "    <tr>\n",
       "      <th>2016-01-07</th>\n",
       "      <td>1943.089966</td>\n",
       "    </tr>\n",
       "    <tr>\n",
       "      <th>2016-01-06</th>\n",
       "      <td>1990.260010</td>\n",
       "    </tr>\n",
       "    <tr>\n",
       "      <th>2016-01-05</th>\n",
       "      <td>2016.709961</td>\n",
       "    </tr>\n",
       "  </tbody>\n",
       "</table>\n",
       "</div>"
      ],
      "text/plain": [
       "              Adj Close\n",
       "Date                   \n",
       "2016-01-11  1923.670044\n",
       "2016-01-08  1922.030029\n",
       "2016-01-07  1943.089966\n",
       "2016-01-06  1990.260010\n",
       "2016-01-05  2016.709961"
      ]
     },
     "execution_count": 79,
     "metadata": {},
     "output_type": "execute_result"
    }
   ],
   "source": [
    "sptt = sp500[['Adj Close']]\n",
    "sptt.head()"
   ]
  },
  {
   "cell_type": "code",
   "execution_count": 80,
   "metadata": {},
   "outputs": [],
   "source": [
    "def rel_change(x):\n",
    "    return (x[0] - x[1])/x[1]"
   ]
  },
  {
   "cell_type": "code",
   "execution_count": 81,
   "metadata": {},
   "outputs": [],
   "source": [
    "sptt.assign?"
   ]
  },
  {
   "cell_type": "code",
   "execution_count": 82,
   "metadata": {},
   "outputs": [
    {
     "ename": "AttributeError",
     "evalue": "module 'pandas' has no attribute 'rolling_apply'",
     "output_type": "error",
     "traceback": [
      "\u001b[0;31m---------------------------------------------------------------------------\u001b[0m",
      "\u001b[0;31mAttributeError\u001b[0m                            Traceback (most recent call last)",
      "\u001b[0;32m<ipython-input-82-9f0a5cc15a04>\u001b[0m in \u001b[0;36m<module>\u001b[0;34m\u001b[0m\n\u001b[0;32m----> 1\u001b[0;31m \u001b[0msptt\u001b[0m \u001b[0;34m=\u001b[0m \u001b[0msptt\u001b[0m\u001b[0;34m.\u001b[0m\u001b[0massign\u001b[0m\u001b[0;34m(\u001b[0m\u001b[0mUpDown\u001b[0m\u001b[0;34m=\u001b[0m\u001b[0mpd\u001b[0m\u001b[0;34m.\u001b[0m\u001b[0mrolling_apply\u001b[0m\u001b[0;34m(\u001b[0m\u001b[0msptt\u001b[0m\u001b[0;34m,\u001b[0m \u001b[0;36m2\u001b[0m\u001b[0;34m,\u001b[0m \u001b[0mrel_change\u001b[0m\u001b[0;34m)\u001b[0m\u001b[0;34m)\u001b[0m\u001b[0;34m\u001b[0m\u001b[0;34m\u001b[0m\u001b[0m\n\u001b[0m",
      "\u001b[0;32m/opt/anaconda3/lib/python3.7/site-packages/pandas/__init__.py\u001b[0m in \u001b[0;36m__getattr__\u001b[0;34m(name)\u001b[0m\n\u001b[1;32m    260\u001b[0m             \u001b[0;32mreturn\u001b[0m \u001b[0m_SparseArray\u001b[0m\u001b[0;34m\u001b[0m\u001b[0;34m\u001b[0m\u001b[0m\n\u001b[1;32m    261\u001b[0m \u001b[0;34m\u001b[0m\u001b[0m\n\u001b[0;32m--> 262\u001b[0;31m         \u001b[0;32mraise\u001b[0m \u001b[0mAttributeError\u001b[0m\u001b[0;34m(\u001b[0m\u001b[0;34mf\"module 'pandas' has no attribute '{name}'\"\u001b[0m\u001b[0;34m)\u001b[0m\u001b[0;34m\u001b[0m\u001b[0;34m\u001b[0m\u001b[0m\n\u001b[0m\u001b[1;32m    263\u001b[0m \u001b[0;34m\u001b[0m\u001b[0m\n\u001b[1;32m    264\u001b[0m \u001b[0;34m\u001b[0m\u001b[0m\n",
      "\u001b[0;31mAttributeError\u001b[0m: module 'pandas' has no attribute 'rolling_apply'"
     ]
    }
   ],
   "source": [
    "sptt = sptt.assign(UpDown=pd.rolling_apply(sptt, 2, rel_change)) # Creates UpDown column\n",
    "# Doesn't work with my pandas, no 'rolling_apply' attribute"
   ]
  },
  {
   "cell_type": "code",
   "execution_count": 83,
   "metadata": {},
   "outputs": [],
   "source": [
    "#sptt.UpDown.shift(-1)"
   ]
  },
  {
   "cell_type": "code",
   "execution_count": 84,
   "metadata": {},
   "outputs": [
    {
     "data": {
      "text/plain": [
       "DatetimeIndex(['2016-01-11', '2016-01-08', '2016-01-07', '2016-01-06',\n",
       "               '2016-01-05', '2016-01-04', '2015-12-31', '2015-12-30',\n",
       "               '2015-12-29', '2015-12-28',\n",
       "               ...\n",
       "               '1950-01-16', '1950-01-13', '1950-01-12', '1950-01-11',\n",
       "               '1950-01-10', '1950-01-09', '1950-01-06', '1950-01-05',\n",
       "               '1950-01-04', '1950-01-03'],\n",
       "              dtype='datetime64[ns]', name='Date', length=16613, freq=None)"
      ]
     },
     "execution_count": 84,
     "metadata": {},
     "output_type": "execute_result"
    }
   ],
   "source": [
    "sptt.index"
   ]
  },
  {
   "cell_type": "code",
   "execution_count": 85,
   "metadata": {},
   "outputs": [
    {
     "name": "stderr",
     "output_type": "stream",
     "text": [
      "/opt/anaconda3/lib/python3.7/site-packages/ipykernel_launcher.py:1: SettingWithCopyWarning: \n",
      "A value is trying to be set on a copy of a slice from a DataFrame.\n",
      "Try using .loc[row_indexer,col_indexer] = value instead\n",
      "\n",
      "See the caveats in the documentation: https://pandas.pydata.org/pandas-docs/stable/user_guide/indexing.html#returning-a-view-versus-a-copy\n",
      "  \"\"\"Entry point for launching an IPython kernel.\n"
     ]
    }
   ],
   "source": [
    "sptt['day_num'] = sptt.index.dayofweek"
   ]
  },
  {
   "cell_type": "code",
   "execution_count": 86,
   "metadata": {},
   "outputs": [
    {
     "data": {
      "text/html": [
       "<div>\n",
       "<style scoped>\n",
       "    .dataframe tbody tr th:only-of-type {\n",
       "        vertical-align: middle;\n",
       "    }\n",
       "\n",
       "    .dataframe tbody tr th {\n",
       "        vertical-align: top;\n",
       "    }\n",
       "\n",
       "    .dataframe thead th {\n",
       "        text-align: right;\n",
       "    }\n",
       "</style>\n",
       "<table border=\"1\" class=\"dataframe\">\n",
       "  <thead>\n",
       "    <tr style=\"text-align: right;\">\n",
       "      <th></th>\n",
       "      <th>Adj Close</th>\n",
       "      <th>day_num</th>\n",
       "    </tr>\n",
       "    <tr>\n",
       "      <th>Date</th>\n",
       "      <th></th>\n",
       "      <th></th>\n",
       "    </tr>\n",
       "  </thead>\n",
       "  <tbody>\n",
       "    <tr>\n",
       "      <th>2016-01-11</th>\n",
       "      <td>1923.670044</td>\n",
       "      <td>0</td>\n",
       "    </tr>\n",
       "    <tr>\n",
       "      <th>2016-01-08</th>\n",
       "      <td>1922.030029</td>\n",
       "      <td>4</td>\n",
       "    </tr>\n",
       "    <tr>\n",
       "      <th>2016-01-07</th>\n",
       "      <td>1943.089966</td>\n",
       "      <td>3</td>\n",
       "    </tr>\n",
       "    <tr>\n",
       "      <th>2016-01-06</th>\n",
       "      <td>1990.260010</td>\n",
       "      <td>2</td>\n",
       "    </tr>\n",
       "    <tr>\n",
       "      <th>2016-01-05</th>\n",
       "      <td>2016.709961</td>\n",
       "      <td>1</td>\n",
       "    </tr>\n",
       "  </tbody>\n",
       "</table>\n",
       "</div>"
      ],
      "text/plain": [
       "              Adj Close  day_num\n",
       "Date                            \n",
       "2016-01-11  1923.670044        0\n",
       "2016-01-08  1922.030029        4\n",
       "2016-01-07  1943.089966        3\n",
       "2016-01-06  1990.260010        2\n",
       "2016-01-05  2016.709961        1"
      ]
     },
     "execution_count": 86,
     "metadata": {},
     "output_type": "execute_result"
    }
   ],
   "source": [
    "sptt.head()"
   ]
  },
  {
   "cell_type": "code",
   "execution_count": 87,
   "metadata": {},
   "outputs": [
    {
     "data": {
      "text/plain": [
       "Date\n",
       "0    478.334693\n",
       "1    487.397694\n",
       "2    487.905133\n",
       "3    485.221006\n",
       "4    484.926614\n",
       "Name: Adj Close, dtype: float64"
      ]
     },
     "execution_count": 87,
     "metadata": {},
     "output_type": "execute_result"
    }
   ],
   "source": [
    "sptt['Adj Close'].groupby(sptt.index.dayofweek).mean()"
   ]
  },
  {
   "cell_type": "code",
   "execution_count": 88,
   "metadata": {},
   "outputs": [],
   "source": [
    "def last_three_days_down(x):\n",
    "    if (x[1] <= 0 and x[2] <= 0 and x[3] <= 0):\n",
    "        return 1\n",
    "    else:\n",
    "        return 0"
   ]
  },
  {
   "cell_type": "code",
   "execution_count": 89,
   "metadata": {},
   "outputs": [],
   "source": [
    "#sptt['ltdd'] = pd.rolling_apply(sptt['UpDown'], 4, last_three_days_down).shift(-3)"
   ]
  },
  {
   "cell_type": "code",
   "execution_count": 90,
   "metadata": {},
   "outputs": [
    {
     "ename": "KeyError",
     "evalue": "'ltdd'",
     "output_type": "error",
     "traceback": [
      "\u001b[0;31m---------------------------------------------------------------------------\u001b[0m",
      "\u001b[0;31mKeyError\u001b[0m                                  Traceback (most recent call last)",
      "\u001b[0;32m/opt/anaconda3/lib/python3.7/site-packages/pandas/core/indexes/base.py\u001b[0m in \u001b[0;36mget_loc\u001b[0;34m(self, key, method, tolerance)\u001b[0m\n\u001b[1;32m   2645\u001b[0m             \u001b[0;32mtry\u001b[0m\u001b[0;34m:\u001b[0m\u001b[0;34m\u001b[0m\u001b[0;34m\u001b[0m\u001b[0m\n\u001b[0;32m-> 2646\u001b[0;31m                 \u001b[0;32mreturn\u001b[0m \u001b[0mself\u001b[0m\u001b[0;34m.\u001b[0m\u001b[0m_engine\u001b[0m\u001b[0;34m.\u001b[0m\u001b[0mget_loc\u001b[0m\u001b[0;34m(\u001b[0m\u001b[0mkey\u001b[0m\u001b[0;34m)\u001b[0m\u001b[0;34m\u001b[0m\u001b[0;34m\u001b[0m\u001b[0m\n\u001b[0m\u001b[1;32m   2647\u001b[0m             \u001b[0;32mexcept\u001b[0m \u001b[0mKeyError\u001b[0m\u001b[0;34m:\u001b[0m\u001b[0;34m\u001b[0m\u001b[0;34m\u001b[0m\u001b[0m\n",
      "\u001b[0;32mpandas/_libs/index.pyx\u001b[0m in \u001b[0;36mpandas._libs.index.IndexEngine.get_loc\u001b[0;34m()\u001b[0m\n",
      "\u001b[0;32mpandas/_libs/index.pyx\u001b[0m in \u001b[0;36mpandas._libs.index.IndexEngine.get_loc\u001b[0;34m()\u001b[0m\n",
      "\u001b[0;32mpandas/_libs/hashtable_class_helper.pxi\u001b[0m in \u001b[0;36mpandas._libs.hashtable.PyObjectHashTable.get_item\u001b[0;34m()\u001b[0m\n",
      "\u001b[0;32mpandas/_libs/hashtable_class_helper.pxi\u001b[0m in \u001b[0;36mpandas._libs.hashtable.PyObjectHashTable.get_item\u001b[0;34m()\u001b[0m\n",
      "\u001b[0;31mKeyError\u001b[0m: 'ltdd'",
      "\nDuring handling of the above exception, another exception occurred:\n",
      "\u001b[0;31mKeyError\u001b[0m                                  Traceback (most recent call last)",
      "\u001b[0;32m<ipython-input-90-37a4380dc9fc>\u001b[0m in \u001b[0;36m<module>\u001b[0;34m\u001b[0m\n\u001b[0;32m----> 1\u001b[0;31m \u001b[0msptt\u001b[0m\u001b[0;34m[\u001b[0m\u001b[0;34m'turned'\u001b[0m\u001b[0;34m]\u001b[0m \u001b[0;34m=\u001b[0m \u001b[0;34m(\u001b[0m\u001b[0msptt\u001b[0m\u001b[0;34m[\u001b[0m\u001b[0;34m'ltdd'\u001b[0m\u001b[0;34m]\u001b[0m \u001b[0;34m>\u001b[0m \u001b[0;36m0.\u001b[0m\u001b[0;34m)\u001b[0m \u001b[0;34m&\u001b[0m \u001b[0;34m(\u001b[0m\u001b[0msptt\u001b[0m\u001b[0;34m[\u001b[0m\u001b[0;34m'UpDown'\u001b[0m\u001b[0;34m]\u001b[0m \u001b[0;34m>\u001b[0m \u001b[0;36m0.\u001b[0m\u001b[0;34m)\u001b[0m\u001b[0;34m\u001b[0m\u001b[0;34m\u001b[0m\u001b[0m\n\u001b[0m",
      "\u001b[0;32m/opt/anaconda3/lib/python3.7/site-packages/pandas/core/frame.py\u001b[0m in \u001b[0;36m__getitem__\u001b[0;34m(self, key)\u001b[0m\n\u001b[1;32m   2798\u001b[0m             \u001b[0;32mif\u001b[0m \u001b[0mself\u001b[0m\u001b[0;34m.\u001b[0m\u001b[0mcolumns\u001b[0m\u001b[0;34m.\u001b[0m\u001b[0mnlevels\u001b[0m \u001b[0;34m>\u001b[0m \u001b[0;36m1\u001b[0m\u001b[0;34m:\u001b[0m\u001b[0;34m\u001b[0m\u001b[0;34m\u001b[0m\u001b[0m\n\u001b[1;32m   2799\u001b[0m                 \u001b[0;32mreturn\u001b[0m \u001b[0mself\u001b[0m\u001b[0;34m.\u001b[0m\u001b[0m_getitem_multilevel\u001b[0m\u001b[0;34m(\u001b[0m\u001b[0mkey\u001b[0m\u001b[0;34m)\u001b[0m\u001b[0;34m\u001b[0m\u001b[0;34m\u001b[0m\u001b[0m\n\u001b[0;32m-> 2800\u001b[0;31m             \u001b[0mindexer\u001b[0m \u001b[0;34m=\u001b[0m \u001b[0mself\u001b[0m\u001b[0;34m.\u001b[0m\u001b[0mcolumns\u001b[0m\u001b[0;34m.\u001b[0m\u001b[0mget_loc\u001b[0m\u001b[0;34m(\u001b[0m\u001b[0mkey\u001b[0m\u001b[0;34m)\u001b[0m\u001b[0;34m\u001b[0m\u001b[0;34m\u001b[0m\u001b[0m\n\u001b[0m\u001b[1;32m   2801\u001b[0m             \u001b[0;32mif\u001b[0m \u001b[0mis_integer\u001b[0m\u001b[0;34m(\u001b[0m\u001b[0mindexer\u001b[0m\u001b[0;34m)\u001b[0m\u001b[0;34m:\u001b[0m\u001b[0;34m\u001b[0m\u001b[0;34m\u001b[0m\u001b[0m\n\u001b[1;32m   2802\u001b[0m                 \u001b[0mindexer\u001b[0m \u001b[0;34m=\u001b[0m \u001b[0;34m[\u001b[0m\u001b[0mindexer\u001b[0m\u001b[0;34m]\u001b[0m\u001b[0;34m\u001b[0m\u001b[0;34m\u001b[0m\u001b[0m\n",
      "\u001b[0;32m/opt/anaconda3/lib/python3.7/site-packages/pandas/core/indexes/base.py\u001b[0m in \u001b[0;36mget_loc\u001b[0;34m(self, key, method, tolerance)\u001b[0m\n\u001b[1;32m   2646\u001b[0m                 \u001b[0;32mreturn\u001b[0m \u001b[0mself\u001b[0m\u001b[0;34m.\u001b[0m\u001b[0m_engine\u001b[0m\u001b[0;34m.\u001b[0m\u001b[0mget_loc\u001b[0m\u001b[0;34m(\u001b[0m\u001b[0mkey\u001b[0m\u001b[0;34m)\u001b[0m\u001b[0;34m\u001b[0m\u001b[0;34m\u001b[0m\u001b[0m\n\u001b[1;32m   2647\u001b[0m             \u001b[0;32mexcept\u001b[0m \u001b[0mKeyError\u001b[0m\u001b[0;34m:\u001b[0m\u001b[0;34m\u001b[0m\u001b[0;34m\u001b[0m\u001b[0m\n\u001b[0;32m-> 2648\u001b[0;31m                 \u001b[0;32mreturn\u001b[0m \u001b[0mself\u001b[0m\u001b[0;34m.\u001b[0m\u001b[0m_engine\u001b[0m\u001b[0;34m.\u001b[0m\u001b[0mget_loc\u001b[0m\u001b[0;34m(\u001b[0m\u001b[0mself\u001b[0m\u001b[0;34m.\u001b[0m\u001b[0m_maybe_cast_indexer\u001b[0m\u001b[0;34m(\u001b[0m\u001b[0mkey\u001b[0m\u001b[0;34m)\u001b[0m\u001b[0;34m)\u001b[0m\u001b[0;34m\u001b[0m\u001b[0;34m\u001b[0m\u001b[0m\n\u001b[0m\u001b[1;32m   2649\u001b[0m         \u001b[0mindexer\u001b[0m \u001b[0;34m=\u001b[0m \u001b[0mself\u001b[0m\u001b[0;34m.\u001b[0m\u001b[0mget_indexer\u001b[0m\u001b[0;34m(\u001b[0m\u001b[0;34m[\u001b[0m\u001b[0mkey\u001b[0m\u001b[0;34m]\u001b[0m\u001b[0;34m,\u001b[0m \u001b[0mmethod\u001b[0m\u001b[0;34m=\u001b[0m\u001b[0mmethod\u001b[0m\u001b[0;34m,\u001b[0m \u001b[0mtolerance\u001b[0m\u001b[0;34m=\u001b[0m\u001b[0mtolerance\u001b[0m\u001b[0;34m)\u001b[0m\u001b[0;34m\u001b[0m\u001b[0;34m\u001b[0m\u001b[0m\n\u001b[1;32m   2650\u001b[0m         \u001b[0;32mif\u001b[0m \u001b[0mindexer\u001b[0m\u001b[0;34m.\u001b[0m\u001b[0mndim\u001b[0m \u001b[0;34m>\u001b[0m \u001b[0;36m1\u001b[0m \u001b[0;32mor\u001b[0m \u001b[0mindexer\u001b[0m\u001b[0;34m.\u001b[0m\u001b[0msize\u001b[0m \u001b[0;34m>\u001b[0m \u001b[0;36m1\u001b[0m\u001b[0;34m:\u001b[0m\u001b[0;34m\u001b[0m\u001b[0;34m\u001b[0m\u001b[0m\n",
      "\u001b[0;32mpandas/_libs/index.pyx\u001b[0m in \u001b[0;36mpandas._libs.index.IndexEngine.get_loc\u001b[0;34m()\u001b[0m\n",
      "\u001b[0;32mpandas/_libs/index.pyx\u001b[0m in \u001b[0;36mpandas._libs.index.IndexEngine.get_loc\u001b[0;34m()\u001b[0m\n",
      "\u001b[0;32mpandas/_libs/hashtable_class_helper.pxi\u001b[0m in \u001b[0;36mpandas._libs.hashtable.PyObjectHashTable.get_item\u001b[0;34m()\u001b[0m\n",
      "\u001b[0;32mpandas/_libs/hashtable_class_helper.pxi\u001b[0m in \u001b[0;36mpandas._libs.hashtable.PyObjectHashTable.get_item\u001b[0;34m()\u001b[0m\n",
      "\u001b[0;31mKeyError\u001b[0m: 'ltdd'"
     ]
    }
   ],
   "source": [
    "sptt['turned'] = (sptt['ltdd'] > 0.) & (sptt['UpDown'] > 0.)"
   ]
  },
  {
   "cell_type": "code",
   "execution_count": 91,
   "metadata": {},
   "outputs": [
    {
     "ename": "AttributeError",
     "evalue": "'DataFrame' object has no attribute 'turned'",
     "output_type": "error",
     "traceback": [
      "\u001b[0;31m---------------------------------------------------------------------------\u001b[0m",
      "\u001b[0;31mAttributeError\u001b[0m                            Traceback (most recent call last)",
      "\u001b[0;32m<ipython-input-91-799ffb181690>\u001b[0m in \u001b[0;36m<module>\u001b[0;34m\u001b[0m\n\u001b[0;32m----> 1\u001b[0;31m \u001b[0msp_turning_days_totals\u001b[0m \u001b[0;34m=\u001b[0m \u001b[0msptt\u001b[0m\u001b[0;34m.\u001b[0m\u001b[0mturned\u001b[0m\u001b[0;34m.\u001b[0m\u001b[0mgroupby\u001b[0m\u001b[0;34m(\u001b[0m\u001b[0msptt\u001b[0m\u001b[0;34m.\u001b[0m\u001b[0mindex\u001b[0m\u001b[0;34m.\u001b[0m\u001b[0mdayofweek\u001b[0m\u001b[0;34m)\u001b[0m\u001b[0;34m.\u001b[0m\u001b[0msum\u001b[0m\u001b[0;34m(\u001b[0m\u001b[0;34m)\u001b[0m\u001b[0;34m\u001b[0m\u001b[0;34m\u001b[0m\u001b[0m\n\u001b[0m",
      "\u001b[0;32m/opt/anaconda3/lib/python3.7/site-packages/pandas/core/generic.py\u001b[0m in \u001b[0;36m__getattr__\u001b[0;34m(self, name)\u001b[0m\n\u001b[1;32m   5272\u001b[0m             \u001b[0;32mif\u001b[0m \u001b[0mself\u001b[0m\u001b[0;34m.\u001b[0m\u001b[0m_info_axis\u001b[0m\u001b[0;34m.\u001b[0m\u001b[0m_can_hold_identifiers_and_holds_name\u001b[0m\u001b[0;34m(\u001b[0m\u001b[0mname\u001b[0m\u001b[0;34m)\u001b[0m\u001b[0;34m:\u001b[0m\u001b[0;34m\u001b[0m\u001b[0;34m\u001b[0m\u001b[0m\n\u001b[1;32m   5273\u001b[0m                 \u001b[0;32mreturn\u001b[0m \u001b[0mself\u001b[0m\u001b[0;34m[\u001b[0m\u001b[0mname\u001b[0m\u001b[0;34m]\u001b[0m\u001b[0;34m\u001b[0m\u001b[0;34m\u001b[0m\u001b[0m\n\u001b[0;32m-> 5274\u001b[0;31m             \u001b[0;32mreturn\u001b[0m \u001b[0mobject\u001b[0m\u001b[0;34m.\u001b[0m\u001b[0m__getattribute__\u001b[0m\u001b[0;34m(\u001b[0m\u001b[0mself\u001b[0m\u001b[0;34m,\u001b[0m \u001b[0mname\u001b[0m\u001b[0;34m)\u001b[0m\u001b[0;34m\u001b[0m\u001b[0;34m\u001b[0m\u001b[0m\n\u001b[0m\u001b[1;32m   5275\u001b[0m \u001b[0;34m\u001b[0m\u001b[0m\n\u001b[1;32m   5276\u001b[0m     \u001b[0;32mdef\u001b[0m \u001b[0m__setattr__\u001b[0m\u001b[0;34m(\u001b[0m\u001b[0mself\u001b[0m\u001b[0;34m,\u001b[0m \u001b[0mname\u001b[0m\u001b[0;34m:\u001b[0m \u001b[0mstr\u001b[0m\u001b[0;34m,\u001b[0m \u001b[0mvalue\u001b[0m\u001b[0;34m)\u001b[0m \u001b[0;34m->\u001b[0m \u001b[0;32mNone\u001b[0m\u001b[0;34m:\u001b[0m\u001b[0;34m\u001b[0m\u001b[0;34m\u001b[0m\u001b[0m\n",
      "\u001b[0;31mAttributeError\u001b[0m: 'DataFrame' object has no attribute 'turned'"
     ]
    }
   ],
   "source": [
    "sp_turning_days_totals = sptt.turned.groupby(sptt.index.dayofweek).sum()"
   ]
  },
  {
   "cell_type": "code",
   "execution_count": null,
   "metadata": {},
   "outputs": [],
   "source": [
    "#sp_turning_days_totals.plot()"
   ]
  }
 ],
 "metadata": {
  "kernelspec": {
   "display_name": "Python 3",
   "language": "python",
   "name": "python3"
  },
  "language_info": {
   "codemirror_mode": {
    "name": "ipython",
    "version": 3
   },
   "file_extension": ".py",
   "mimetype": "text/x-python",
   "name": "python",
   "nbconvert_exporter": "python",
   "pygments_lexer": "ipython3",
   "version": "3.7.6"
  }
 },
 "nbformat": 4,
 "nbformat_minor": 4
}
